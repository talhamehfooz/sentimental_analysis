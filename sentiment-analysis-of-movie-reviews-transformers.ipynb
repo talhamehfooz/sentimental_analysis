{
 "cells": [
  {
   "cell_type": "code",
   "execution_count": 1,
   "id": "d7f6fccd",
   "metadata": {
    "_cell_guid": "b1076dfc-b9ad-4769-8c92-a6c4dae69d19",
    "_kg_hide-input": true,
    "_uuid": "8f2839f25d086af736a60e9eeb907d3b93b6e0e5",
    "execution": {
     "iopub.execute_input": "2023-01-23T08:44:47.616538Z",
     "iopub.status.busy": "2023-01-23T08:44:47.615958Z",
     "iopub.status.idle": "2023-01-23T08:44:47.630588Z",
     "shell.execute_reply": "2023-01-23T08:44:47.629487Z"
    },
    "papermill": {
     "duration": 0.032331,
     "end_time": "2023-01-23T08:44:47.634225",
     "exception": false,
     "start_time": "2023-01-23T08:44:47.601894",
     "status": "completed"
    },
    "tags": []
   },
   "outputs": [],
   "source": [
    "import numpy as np # linear algebra\n",
    "import pandas as pd # data processing, CSV file I/O (e.g. pd.read_csv)\n",
    "import os\n",
    "for dirname, _, filenames in os.walk('/kaggle/input'):\n",
    "    for filename in filenames:\n",
    "        print(os.path.join(dirname, filename))"
   ]
  },
  {
   "cell_type": "markdown",
   "id": "1144c55d",
   "metadata": {
    "papermill": {
     "duration": 0.012714,
     "end_time": "2023-01-23T08:44:47.659426",
     "exception": false,
     "start_time": "2023-01-23T08:44:47.646712",
     "status": "completed"
    },
    "tags": []
   },
   "source": [
    "## Sentiment Analysis of Movie Reviews\n",
    "We want to use [Movie Reviews](https://www.kaggle.com/competitions/sentiment-analysis-on-movie-reviews) as our dataset for our Model"
   ]
  },
  {
   "attachments": {
    "6ec8023c-9e78-4f87-97ce-6cbcd5fa775c.jpg": {
     "image/jpeg": "[encoded data removed]"
    }
   },
   "cell_type": "markdown",
   "id": "7fb33db2",
   "metadata": {
    "papermill": {
     "duration": 0.010243,
     "end_time": "2023-01-23T08:44:47.680275",
     "exception": false,
     "start_time": "2023-01-23T08:44:47.670032",
     "status": "completed"
    },
    "tags": []
   },
   "source": [
    "![bp-film-review-title.jpg](attachment:6ec8023c-9e78-4f87-97ce-6cbcd5fa775c.jpg)"
   ]
  },
  {
   "cell_type": "markdown",
   "id": "152baf53",
   "metadata": {
    "papermill": {
     "duration": 0.010184,
     "end_time": "2023-01-23T08:44:47.700778",
     "exception": false,
     "start_time": "2023-01-23T08:44:47.690594",
     "status": "completed"
    },
    "tags": []
   },
   "source": [
    "## Read dataset file"
   ]
  },
  {
   "cell_type": "code",
   "execution_count": 4,
   "id": "a7f7cd64",
   "metadata": {
    "execution": {
     "iopub.execute_input": "2023-01-23T08:44:47.723377Z",
     "iopub.status.busy": "2023-01-23T08:44:47.722642Z",
     "iopub.status.idle": "2023-01-23T08:44:47.950465Z",
     "shell.execute_reply": "2023-01-23T08:44:47.949354Z"
    },
    "papermill": {
     "duration": 0.241943,
     "end_time": "2023-01-23T08:44:47.953173",
     "exception": false,
     "start_time": "2023-01-23T08:44:47.711230",
     "status": "completed"
    },
    "tags": []
   },
   "outputs": [],
   "source": [
    "train_df = pd.read_csv('train.tsv',sep='\\t')"
   ]
  },
  {
   "cell_type": "markdown",
   "id": "7273f174",
   "metadata": {
    "papermill": {
     "duration": 0.011382,
     "end_time": "2023-01-23T08:44:47.976196",
     "exception": false,
     "start_time": "2023-01-23T08:44:47.964814",
     "status": "completed"
    },
    "tags": []
   },
   "source": [
    "## Exploratory data"
   ]
  },
  {
   "cell_type": "code",
   "execution_count": 5,
   "id": "4cdb4cf4",
   "metadata": {
    "execution": {
     "iopub.execute_input": "2023-01-23T08:44:48.000279Z",
     "iopub.status.busy": "2023-01-23T08:44:47.999889Z",
     "iopub.status.idle": "2023-01-23T08:44:48.019218Z",
     "shell.execute_reply": "2023-01-23T08:44:48.018188Z"
    },
    "papermill": {
     "duration": 0.033601,
     "end_time": "2023-01-23T08:44:48.021349",
     "exception": false,
     "start_time": "2023-01-23T08:44:47.987748",
     "status": "completed"
    },
    "tags": []
   },
   "outputs": [
    {
     "data": {
      "text/html": [
       "<div>\n",
       "<style scoped>\n",
       "    .dataframe tbody tr th:only-of-type {\n",
       "        vertical-align: middle;\n",
       "    }\n",
       "\n",
       "    .dataframe tbody tr th {\n",
       "        vertical-align: top;\n",
       "    }\n",
       "\n",
       "    .dataframe thead th {\n",
       "        text-align: right;\n",
       "    }\n",
       "</style>\n",
       "<table border=\"1\" class=\"dataframe\">\n",
       "  <thead>\n",
       "    <tr style=\"text-align: right;\">\n",
       "      <th></th>\n",
       "      <th>PhraseId</th>\n",
       "      <th>SentenceId</th>\n",
       "      <th>Phrase</th>\n",
       "      <th>Sentiment</th>\n",
       "    </tr>\n",
       "  </thead>\n",
       "  <tbody>\n",
       "    <tr>\n",
       "      <th>0</th>\n",
       "      <td>1</td>\n",
       "      <td>1</td>\n",
       "      <td>A series of escapades demonstrating the adage ...</td>\n",
       "      <td>1</td>\n",
       "    </tr>\n",
       "    <tr>\n",
       "      <th>1</th>\n",
       "      <td>2</td>\n",
       "      <td>1</td>\n",
       "      <td>A series of escapades demonstrating the adage ...</td>\n",
       "      <td>2</td>\n",
       "    </tr>\n",
       "    <tr>\n",
       "      <th>2</th>\n",
       "      <td>3</td>\n",
       "      <td>1</td>\n",
       "      <td>A series</td>\n",
       "      <td>2</td>\n",
       "    </tr>\n",
       "    <tr>\n",
       "      <th>3</th>\n",
       "      <td>4</td>\n",
       "      <td>1</td>\n",
       "      <td>A</td>\n",
       "      <td>2</td>\n",
       "    </tr>\n",
       "    <tr>\n",
       "      <th>4</th>\n",
       "      <td>5</td>\n",
       "      <td>1</td>\n",
       "      <td>series</td>\n",
       "      <td>2</td>\n",
       "    </tr>\n",
       "  </tbody>\n",
       "</table>\n",
       "</div>"
      ],
      "text/plain": [
       "   PhraseId  SentenceId                                             Phrase  \\\n",
       "0         1           1  A series of escapades demonstrating the adage ...   \n",
       "1         2           1  A series of escapades demonstrating the adage ...   \n",
       "2         3           1                                           A series   \n",
       "3         4           1                                                  A   \n",
       "4         5           1                                             series   \n",
       "\n",
       "   Sentiment  \n",
       "0          1  \n",
       "1          2  \n",
       "2          2  \n",
       "3          2  \n",
       "4          2  "
      ]
     },
     "execution_count": 5,
     "metadata": {},
     "output_type": "execute_result"
    }
   ],
   "source": [
    "train_df.head()"
   ]
  },
  {
   "cell_type": "markdown",
   "id": "15d84828",
   "metadata": {
    "papermill": {
     "duration": 0.010284,
     "end_time": "2023-01-23T08:44:48.042498",
     "exception": false,
     "start_time": "2023-01-23T08:44:48.032214",
     "status": "completed"
    },
    "tags": []
   },
   "source": [
    "as you see we have a duplicate rows"
   ]
  },
  {
   "cell_type": "markdown",
   "id": "933cce53",
   "metadata": {
    "papermill": {
     "duration": 0.009822,
     "end_time": "2023-01-23T08:44:48.062606",
     "exception": false,
     "start_time": "2023-01-23T08:44:48.052784",
     "status": "completed"
    },
    "tags": []
   },
   "source": [
    "### Remove duplicate rows"
   ]
  },
  {
   "cell_type": "code",
   "execution_count": 6,
   "id": "4a29925b",
   "metadata": {
    "execution": {
     "iopub.execute_input": "2023-01-23T08:44:48.086603Z",
     "iopub.status.busy": "2023-01-23T08:44:48.084855Z",
     "iopub.status.idle": "2023-01-23T08:44:48.113154Z",
     "shell.execute_reply": "2023-01-23T08:44:48.111752Z"
    },
    "papermill": {
     "duration": 0.043099,
     "end_time": "2023-01-23T08:44:48.115999",
     "exception": false,
     "start_time": "2023-01-23T08:44:48.072900",
     "status": "completed"
    },
    "tags": []
   },
   "outputs": [
    {
     "data": {
      "text/html": [
       "<div>\n",
       "<style scoped>\n",
       "    .dataframe tbody tr th:only-of-type {\n",
       "        vertical-align: middle;\n",
       "    }\n",
       "\n",
       "    .dataframe tbody tr th {\n",
       "        vertical-align: top;\n",
       "    }\n",
       "\n",
       "    .dataframe thead th {\n",
       "        text-align: right;\n",
       "    }\n",
       "</style>\n",
       "<table border=\"1\" class=\"dataframe\">\n",
       "  <thead>\n",
       "    <tr style=\"text-align: right;\">\n",
       "      <th></th>\n",
       "      <th>PhraseId</th>\n",
       "      <th>SentenceId</th>\n",
       "      <th>Phrase</th>\n",
       "      <th>Sentiment</th>\n",
       "    </tr>\n",
       "  </thead>\n",
       "  <tbody>\n",
       "    <tr>\n",
       "      <th>0</th>\n",
       "      <td>1</td>\n",
       "      <td>1</td>\n",
       "      <td>A series of escapades demonstrating the adage ...</td>\n",
       "      <td>1</td>\n",
       "    </tr>\n",
       "    <tr>\n",
       "      <th>63</th>\n",
       "      <td>64</td>\n",
       "      <td>2</td>\n",
       "      <td>This quiet , introspective and entertaining in...</td>\n",
       "      <td>4</td>\n",
       "    </tr>\n",
       "    <tr>\n",
       "      <th>81</th>\n",
       "      <td>82</td>\n",
       "      <td>3</td>\n",
       "      <td>Even fans of Ismail Merchant 's work , I suspe...</td>\n",
       "      <td>1</td>\n",
       "    </tr>\n",
       "    <tr>\n",
       "      <th>116</th>\n",
       "      <td>117</td>\n",
       "      <td>4</td>\n",
       "      <td>A positively thrilling combination of ethnogra...</td>\n",
       "      <td>3</td>\n",
       "    </tr>\n",
       "    <tr>\n",
       "      <th>156</th>\n",
       "      <td>157</td>\n",
       "      <td>5</td>\n",
       "      <td>Aggressive self-glorification and a manipulati...</td>\n",
       "      <td>1</td>\n",
       "    </tr>\n",
       "    <tr>\n",
       "      <th>...</th>\n",
       "      <td>...</td>\n",
       "      <td>...</td>\n",
       "      <td>...</td>\n",
       "      <td>...</td>\n",
       "    </tr>\n",
       "    <tr>\n",
       "      <th>155984</th>\n",
       "      <td>155985</td>\n",
       "      <td>8540</td>\n",
       "      <td>... either you 're willing to go with this cla...</td>\n",
       "      <td>2</td>\n",
       "    </tr>\n",
       "    <tr>\n",
       "      <th>155997</th>\n",
       "      <td>155998</td>\n",
       "      <td>8541</td>\n",
       "      <td>Despite these annoyances , the capable Claybur...</td>\n",
       "      <td>2</td>\n",
       "    </tr>\n",
       "    <tr>\n",
       "      <th>156021</th>\n",
       "      <td>156022</td>\n",
       "      <td>8542</td>\n",
       "      <td>-LRB- Tries -RRB- to parody a genre that 's al...</td>\n",
       "      <td>1</td>\n",
       "    </tr>\n",
       "    <tr>\n",
       "      <th>156031</th>\n",
       "      <td>156032</td>\n",
       "      <td>8543</td>\n",
       "      <td>The movie 's downfall is to substitute plot fo...</td>\n",
       "      <td>1</td>\n",
       "    </tr>\n",
       "    <tr>\n",
       "      <th>156039</th>\n",
       "      <td>156040</td>\n",
       "      <td>8544</td>\n",
       "      <td>The film is darkly atmospheric , with Herrmann...</td>\n",
       "      <td>2</td>\n",
       "    </tr>\n",
       "  </tbody>\n",
       "</table>\n",
       "<p>8529 rows × 4 columns</p>\n",
       "</div>"
      ],
      "text/plain": [
       "        PhraseId  SentenceId  \\\n",
       "0              1           1   \n",
       "63            64           2   \n",
       "81            82           3   \n",
       "116          117           4   \n",
       "156          157           5   \n",
       "...          ...         ...   \n",
       "155984    155985        8540   \n",
       "155997    155998        8541   \n",
       "156021    156022        8542   \n",
       "156031    156032        8543   \n",
       "156039    156040        8544   \n",
       "\n",
       "                                                   Phrase  Sentiment  \n",
       "0       A series of escapades demonstrating the adage ...          1  \n",
       "63      This quiet , introspective and entertaining in...          4  \n",
       "81      Even fans of Ismail Merchant 's work , I suspe...          1  \n",
       "116     A positively thrilling combination of ethnogra...          3  \n",
       "156     Aggressive self-glorification and a manipulati...          1  \n",
       "...                                                   ...        ...  \n",
       "155984  ... either you 're willing to go with this cla...          2  \n",
       "155997  Despite these annoyances , the capable Claybur...          2  \n",
       "156021  -LRB- Tries -RRB- to parody a genre that 's al...          1  \n",
       "156031  The movie 's downfall is to substitute plot fo...          1  \n",
       "156039  The film is darkly atmospheric , with Herrmann...          2  \n",
       "\n",
       "[8529 rows x 4 columns]"
      ]
     },
     "execution_count": 6,
     "metadata": {},
     "output_type": "execute_result"
    }
   ],
   "source": [
    "train_df.drop_duplicates(subset=[\"SentenceId\"], keep=\"first\")"
   ]
  },
  {
   "cell_type": "code",
   "execution_count": 5,
   "id": "18c04e07",
   "metadata": {
    "execution": {
     "iopub.execute_input": "2023-01-23T08:44:48.139864Z",
     "iopub.status.busy": "2023-01-23T08:44:48.139524Z",
     "iopub.status.idle": "2023-01-23T08:44:48.399190Z",
     "shell.execute_reply": "2023-01-23T08:44:48.398047Z"
    },
    "papermill": {
     "duration": 0.274481,
     "end_time": "2023-01-23T08:44:48.401588",
     "exception": false,
     "start_time": "2023-01-23T08:44:48.127107",
     "status": "completed"
    },
    "tags": []
   },
   "outputs": [
    {
     "data": {
      "text/plain": [
       "<AxesSubplot:>"
      ]
     },
     "execution_count": 5,
     "metadata": {},
     "output_type": "execute_result"
    },
    {
     "data": {
      "image/png": "[encoded data removed]",
      "text/plain": [
       "<Figure size 432x288 with 1 Axes>"
      ]
     },
     "metadata": {
      "needs_background": "light"
     },
     "output_type": "display_data"
    }
   ],
   "source": [
    "train_df[\"Sentiment\"].value_counts().plot(kind=\"bar\")"
   ]
  },
  {
   "cell_type": "markdown",
   "id": "6a341c25",
   "metadata": {
    "papermill": {
     "duration": 0.010886,
     "end_time": "2023-01-23T08:44:48.423534",
     "exception": false,
     "start_time": "2023-01-23T08:44:48.412648",
     "status": "completed"
    },
    "tags": []
   },
   "source": [
    "The sentiment labels are:\n",
    "\n",
    "* 0-negative\n",
    "* 1-somewhat negative\n",
    "* 2-neutral\n",
    "* 3-somewhat positive\n",
    "* 4-positive"
   ]
  },
  {
   "cell_type": "code",
   "execution_count": 7,
   "id": "2e9e8e79",
   "metadata": {
    "execution": {
     "iopub.execute_input": "2023-01-23T08:44:48.448041Z",
     "iopub.status.busy": "2023-01-23T08:44:48.447705Z",
     "iopub.status.idle": "2023-01-23T08:44:48.454139Z",
     "shell.execute_reply": "2023-01-23T08:44:48.453180Z"
    },
    "papermill": {
     "duration": 0.021191,
     "end_time": "2023-01-23T08:44:48.456345",
     "exception": false,
     "start_time": "2023-01-23T08:44:48.435154",
     "status": "completed"
    },
    "tags": []
   },
   "outputs": [
    {
     "data": {
      "text/plain": [
       "156060"
      ]
     },
     "execution_count": 7,
     "metadata": {},
     "output_type": "execute_result"
    }
   ],
   "source": [
    "seq_len = 512\n",
    "num_samples = len(train_df)\n",
    "num_samples"
   ]
  },
  {
   "cell_type": "code",
   "execution_count": 10,
   "id": "9ca2c642",
   "metadata": {
    "execution": {
     "iopub.execute_input": "2023-01-23T08:44:48.481044Z",
     "iopub.status.busy": "2023-01-23T08:44:48.480677Z",
     "iopub.status.idle": "2023-01-23T08:44:49.121608Z",
     "shell.execute_reply": "2023-01-23T08:44:49.120528Z"
    },
    "papermill": {
     "duration": 0.656509,
     "end_time": "2023-01-23T08:44:49.124315",
     "exception": false,
     "start_time": "2023-01-23T08:44:48.467806",
     "status": "completed"
    },
    "tags": []
   },
   "outputs": [],
   "source": [
    "from transformers import BertTokenizer"
   ]
  },
  {
   "cell_type": "markdown",
   "id": "5b63124d",
   "metadata": {
    "papermill": {
     "duration": 0.011352,
     "end_time": "2023-01-23T08:44:49.147298",
     "exception": false,
     "start_time": "2023-01-23T08:44:49.135946",
     "status": "completed"
    },
    "tags": []
   },
   "source": [
    "## Use Bert tokenizer"
   ]
  },
  {
   "cell_type": "code",
   "execution_count": 11,
   "id": "058f2ab5",
   "metadata": {
    "execution": {
     "iopub.execute_input": "2023-01-23T08:44:49.172558Z",
     "iopub.status.busy": "2023-01-23T08:44:49.171908Z",
     "iopub.status.idle": "2023-01-23T08:44:50.746085Z",
     "shell.execute_reply": "2023-01-23T08:44:50.745129Z"
    },
    "papermill": {
     "duration": 1.589621,
     "end_time": "2023-01-23T08:44:50.748628",
     "exception": false,
     "start_time": "2023-01-23T08:44:49.159007",
     "status": "completed"
    },
    "tags": []
   },
   "outputs": [
    {
     "data": {
      "application/vnd.jupyter.widget-view+json": {
       "model_id": "9547948d8c7a49e8a0261b32745ca266",
       "version_major": 2,
       "version_minor": 0
      },
      "text/plain": [
       "Downloading (…)solve/main/vocab.txt:   0%|          | 0.00/213k [00:00<?, ?B/s]"
      ]
     },
     "metadata": {},
     "output_type": "display_data"
    },
    {
     "name": "stderr",
     "output_type": "stream",
     "text": [
      "C:\\ProgramData\\Anaconda3\\lib\\site-packages\\huggingface_hub\\file_download.py:129: UserWarning: `huggingface_hub` cache-system uses symlinks by default to efficiently store duplicated files but your machine does not support them in C:\\Users\\Lab02R03Pc17\\.cache\\huggingface\\hub. Caching files will still work but in a degraded version that might require more space on your disk. This warning can be disabled by setting the `HF_HUB_DISABLE_SYMLINKS_WARNING` environment variable. For more details, see https://huggingface.co/docs/huggingface_hub/how-to-cache#limitations.\n",
      "To support symlinks on Windows, you either need to activate Developer Mode or to run Python as an administrator. In order to see activate developer mode, see this article: https://docs.microsoft.com/en-us/windows/apps/get-started/enable-your-device-for-development\n",
      "  warnings.warn(message)\n"
     ]
    },
    {
     "data": {
      "application/vnd.jupyter.widget-view+json": {
       "model_id": "4b5ed6abcd0f4ee1948c41afaeaa78b3",
       "version_major": 2,
       "version_minor": 0
      },
      "text/plain": [
       "Downloading (…)okenizer_config.json:   0%|          | 0.00/29.0 [00:00<?, ?B/s]"
      ]
     },
     "metadata": {},
     "output_type": "display_data"
    },
    {
     "data": {
      "application/vnd.jupyter.widget-view+json": {
       "model_id": "f9c7599f17f9410398c5ffd8999c5cb1",
       "version_major": 2,
       "version_minor": 0
      },
      "text/plain": [
       "Downloading (…)lve/main/config.json:   0%|          | 0.00/570 [00:00<?, ?B/s]"
      ]
     },
     "metadata": {},
     "output_type": "display_data"
    }
   ],
   "source": [
    "tokenizer = BertTokenizer.from_pretrained(\"bert-base-cased\")"
   ]
  },
  {
   "cell_type": "code",
   "execution_count": 13,
   "id": "505e59f9",
   "metadata": {
    "execution": {
     "iopub.execute_input": "2023-01-23T08:44:50.774177Z",
     "iopub.status.busy": "2023-01-23T08:44:50.773800Z",
     "iopub.status.idle": "2023-01-23T08:45:53.289328Z",
     "shell.execute_reply": "2023-01-23T08:45:53.288091Z"
    },
    "papermill": {
     "duration": 62.533517,
     "end_time": "2023-01-23T08:45:53.294223",
     "exception": false,
     "start_time": "2023-01-23T08:44:50.760706",
     "status": "completed"
    },
    "tags": []
   },
   "outputs": [],
   "source": [
    "# seq_len = 512\n",
    "# num_samples = len(train_df)\n",
    "\n",
    "tokens = tokenizer(train_df[\"Phrase\"].tolist(),\n",
    "                  max_length=seq_len,\n",
    "                  truncation=True,\n",
    "                  padding=\"max_length\",\n",
    "                  add_special_tokens=True, # the sequences will be encoded with the special tokens relative to their model\n",
    "                  return_tensors=\"np\")"
   ]
  },
  {
   "cell_type": "code",
   "execution_count": 15,
   "id": "e6bcf026",
   "metadata": {
    "execution": {
     "iopub.execute_input": "2023-01-23T08:45:53.334407Z",
     "iopub.status.busy": "2023-01-23T08:45:53.333855Z",
     "iopub.status.idle": "2023-01-23T08:45:53.340855Z",
     "shell.execute_reply": "2023-01-23T08:45:53.339820Z"
    },
    "papermill": {
     "duration": 0.030782,
     "end_time": "2023-01-23T08:45:53.346059",
     "exception": false,
     "start_time": "2023-01-23T08:45:53.315277",
     "status": "completed"
    },
    "tags": []
   },
   "outputs": [
    {
     "data": {
      "text/plain": [
       "dict_keys(['input_ids', 'token_type_ids', 'attention_mask'])"
      ]
     },
     "execution_count": 15,
     "metadata": {},
     "output_type": "execute_result"
    }
   ],
   "source": [
    "tokens.keys()"
   ]
  },
  {
   "cell_type": "code",
   "execution_count": 11,
   "id": "117c7f04",
   "metadata": {
    "execution": {
     "iopub.execute_input": "2023-01-23T08:45:53.383418Z",
     "iopub.status.busy": "2023-01-23T08:45:53.382982Z",
     "iopub.status.idle": "2023-01-23T08:45:53.394255Z",
     "shell.execute_reply": "2023-01-23T08:45:53.393333Z"
    },
    "papermill": {
     "duration": 0.033525,
     "end_time": "2023-01-23T08:45:53.397107",
     "exception": false,
     "start_time": "2023-01-23T08:45:53.363582",
     "status": "completed"
    },
    "tags": []
   },
   "outputs": [
    {
     "data": {
      "text/plain": [
       "(array([[  101,   138,  1326, ...,     0,     0,     0],\n",
       "        [  101,   138,  1326, ...,     0,     0,     0],\n",
       "        [  101,   138,  1326, ...,     0,     0,     0],\n",
       "        ...,\n",
       "        [  101,   170, 25247, ...,     0,     0,     0],\n",
       "        [  101,   170, 25247, ...,     0,     0,     0],\n",
       "        [  101, 22572, 12148, ...,     0,     0,     0]]),\n",
       " array([[1, 1, 1, ..., 0, 0, 0],\n",
       "        [1, 1, 1, ..., 0, 0, 0],\n",
       "        [1, 1, 1, ..., 0, 0, 0],\n",
       "        ...,\n",
       "        [1, 1, 1, ..., 0, 0, 0],\n",
       "        [1, 1, 1, ..., 0, 0, 0],\n",
       "        [1, 1, 1, ..., 0, 0, 0]]))"
      ]
     },
     "execution_count": 11,
     "metadata": {},
     "output_type": "execute_result"
    }
   ],
   "source": [
    "tokens[\"input_ids\"],tokens[\"attention_mask\"]"
   ]
  },
  {
   "cell_type": "markdown",
   "id": "48d8c3c2",
   "metadata": {
    "papermill": {
     "duration": 0.018471,
     "end_time": "2023-01-23T08:45:53.434169",
     "exception": false,
     "start_time": "2023-01-23T08:45:53.415698",
     "status": "completed"
    },
    "tags": []
   },
   "source": [
    "zeros at the end of seq is related to padding"
   ]
  },
  {
   "cell_type": "code",
   "execution_count": 18,
   "id": "1812a16e",
   "metadata": {
    "execution": {
     "iopub.execute_input": "2023-01-23T08:45:53.472105Z",
     "iopub.status.busy": "2023-01-23T08:45:53.471716Z",
     "iopub.status.idle": "2023-01-23T08:45:53.482368Z",
     "shell.execute_reply": "2023-01-23T08:45:53.481413Z"
    },
    "papermill": {
     "duration": 0.032843,
     "end_time": "2023-01-23T08:45:53.485217",
     "exception": false,
     "start_time": "2023-01-23T08:45:53.452374",
     "status": "completed"
    },
    "tags": []
   },
   "outputs": [
    {
     "data": {
      "text/plain": [
       "array([1, 2, 2, ..., 3, 2, 2], dtype=int64)"
      ]
     },
     "execution_count": 18,
     "metadata": {},
     "output_type": "execute_result"
    }
   ],
   "source": [
    "classes_arr = train_df[\"Sentiment\"].values\n",
    "classes_arr"
   ]
  },
  {
   "cell_type": "code",
   "execution_count": 19,
   "id": "78135713",
   "metadata": {
    "execution": {
     "iopub.execute_input": "2023-01-23T08:45:53.523395Z",
     "iopub.status.busy": "2023-01-23T08:45:53.522984Z",
     "iopub.status.idle": "2023-01-23T08:45:53.535228Z",
     "shell.execute_reply": "2023-01-23T08:45:53.534256Z"
    },
    "papermill": {
     "duration": 0.034323,
     "end_time": "2023-01-23T08:45:53.537844",
     "exception": false,
     "start_time": "2023-01-23T08:45:53.503521",
     "status": "completed"
    },
    "tags": []
   },
   "outputs": [
    {
     "data": {
      "text/plain": [
       "(156060, 5)"
      ]
     },
     "execution_count": 19,
     "metadata": {},
     "output_type": "execute_result"
    }
   ],
   "source": [
    "labels = np.zeros((num_samples, classes_arr.max()+1))\n",
    "labels.shape"
   ]
  },
  {
   "cell_type": "markdown",
   "id": "56ab9d8b",
   "metadata": {
    "papermill": {
     "duration": 0.018848,
     "end_time": "2023-01-23T08:45:53.576049",
     "exception": false,
     "start_time": "2023-01-23T08:45:53.557201",
     "status": "completed"
    },
    "tags": []
   },
   "source": [
    "our dataframe has 5 class labels = {0 1 2 3 4}"
   ]
  },
  {
   "cell_type": "markdown",
   "id": "39aa2f28",
   "metadata": {
    "papermill": {
     "duration": 0.019042,
     "end_time": "2023-01-23T08:45:53.614380",
     "exception": false,
     "start_time": "2023-01-23T08:45:53.595338",
     "status": "completed"
    },
    "tags": []
   },
   "source": [
    "### make one hot labels"
   ]
  },
  {
   "cell_type": "code",
   "execution_count": 20,
   "id": "9175965d",
   "metadata": {
    "execution": {
     "iopub.execute_input": "2023-01-23T08:45:53.653739Z",
     "iopub.status.busy": "2023-01-23T08:45:53.653259Z",
     "iopub.status.idle": "2023-01-23T08:45:53.667948Z",
     "shell.execute_reply": "2023-01-23T08:45:53.666905Z"
    },
    "papermill": {
     "duration": 0.03714,
     "end_time": "2023-01-23T08:45:53.671039",
     "exception": false,
     "start_time": "2023-01-23T08:45:53.633899",
     "status": "completed"
    },
    "tags": []
   },
   "outputs": [
    {
     "data": {
      "text/plain": [
       "array([[0., 1., 0., 0., 0.],\n",
       "       [0., 0., 1., 0., 0.],\n",
       "       [0., 0., 1., 0., 0.],\n",
       "       ...,\n",
       "       [0., 0., 0., 1., 0.],\n",
       "       [0., 0., 1., 0., 0.],\n",
       "       [0., 0., 1., 0., 0.]])"
      ]
     },
     "execution_count": 20,
     "metadata": {},
     "output_type": "execute_result"
    }
   ],
   "source": [
    "labels[np.arange(num_samples), classes_arr] = 1\n",
    "labels"
   ]
  },
  {
   "cell_type": "markdown",
   "id": "cc59b781",
   "metadata": {
    "papermill": {
     "duration": 0.017333,
     "end_time": "2023-01-23T08:45:53.707309",
     "exception": false,
     "start_time": "2023-01-23T08:45:53.689976",
     "status": "completed"
    },
    "tags": []
   },
   "source": [
    "\"classes_arr\" refer to which column must be 1"
   ]
  },
  {
   "cell_type": "markdown",
   "id": "ca377770",
   "metadata": {
    "papermill": {
     "duration": 0.018406,
     "end_time": "2023-01-23T08:45:53.742766",
     "exception": false,
     "start_time": "2023-01-23T08:45:53.724360",
     "status": "completed"
    },
    "tags": []
   },
   "source": [
    "## Building a Dataset"
   ]
  },
  {
   "cell_type": "markdown",
   "id": "b5e7f513",
   "metadata": {
    "papermill": {
     "duration": 0.019041,
     "end_time": "2023-01-23T08:45:53.785382",
     "exception": false,
     "start_time": "2023-01-23T08:45:53.766341",
     "status": "completed"
    },
    "tags": []
   },
   "source": [
    "[You can see this document if you are not fimiliar with Tensorflow dataset](https://www.tensorflow.org/api_docs/python/tf/data/Dataset)"
   ]
  },
  {
   "cell_type": "code",
   "execution_count": 23,
   "id": "a00b9da8",
   "metadata": {
    "execution": {
     "iopub.execute_input": "2023-01-23T08:45:53.818287Z",
     "iopub.status.busy": "2023-01-23T08:45:53.817915Z",
     "iopub.status.idle": "2023-01-23T08:45:59.004274Z",
     "shell.execute_reply": "2023-01-23T08:45:59.002286Z"
    },
    "papermill": {
     "duration": 5.202876,
     "end_time": "2023-01-23T08:45:59.007499",
     "exception": false,
     "start_time": "2023-01-23T08:45:53.804623",
     "status": "completed"
    },
    "tags": []
   },
   "outputs": [],
   "source": [
    "import tensorflow as tf"
   ]
  },
  {
   "cell_type": "code",
   "execution_count": 25,
   "id": "efe03226",
   "metadata": {
    "execution": {
     "iopub.execute_input": "2023-01-23T08:45:59.036917Z",
     "iopub.status.busy": "2023-01-23T08:45:59.036269Z",
     "iopub.status.idle": "2023-01-23T08:46:05.516744Z",
     "shell.execute_reply": "2023-01-23T08:46:05.515634Z"
    },
    "papermill": {
     "duration": 6.497882,
     "end_time": "2023-01-23T08:46:05.519532",
     "exception": false,
     "start_time": "2023-01-23T08:45:59.021650",
     "status": "completed"
    },
    "tags": []
   },
   "outputs": [],
   "source": [
    "dataset = tf.data.Dataset.from_tensor_slices((tokens[\"input_ids\"],tokens[\"attention_mask\"],labels))"
   ]
  },
  {
   "cell_type": "code",
   "execution_count": 26,
   "id": "7a27aa90",
   "metadata": {
    "execution": {
     "iopub.execute_input": "2023-01-23T08:46:05.546907Z",
     "iopub.status.busy": "2023-01-23T08:46:05.545935Z",
     "iopub.status.idle": "2023-01-23T08:46:05.555861Z",
     "shell.execute_reply": "2023-01-23T08:46:05.554712Z"
    },
    "papermill": {
     "duration": 0.02568,
     "end_time": "2023-01-23T08:46:05.558101",
     "exception": false,
     "start_time": "2023-01-23T08:46:05.532421",
     "status": "completed"
    },
    "tags": []
   },
   "outputs": [
    {
     "data": {
      "text/plain": [
       "<TakeDataset element_spec=(TensorSpec(shape=(512,), dtype=tf.int32, name=None), TensorSpec(shape=(512,), dtype=tf.int32, name=None), TensorSpec(shape=(5,), dtype=tf.float64, name=None))>"
      ]
     },
     "execution_count": 26,
     "metadata": {},
     "output_type": "execute_result"
    }
   ],
   "source": [
    "dataset.take(1)"
   ]
  },
  {
   "cell_type": "code",
   "execution_count": 27,
   "id": "12d36ab6",
   "metadata": {
    "execution": {
     "iopub.execute_input": "2023-01-23T08:46:05.583996Z",
     "iopub.status.busy": "2023-01-23T08:46:05.583694Z",
     "iopub.status.idle": "2023-01-23T08:46:05.649960Z",
     "shell.execute_reply": "2023-01-23T08:46:05.648811Z"
    },
    "papermill": {
     "duration": 0.082264,
     "end_time": "2023-01-23T08:46:05.652554",
     "exception": false,
     "start_time": "2023-01-23T08:46:05.570290",
     "status": "completed"
    },
    "tags": []
   },
   "outputs": [
    {
     "data": {
      "text/plain": [
       "<TakeDataset element_spec=({'input_ids': TensorSpec(shape=(512,), dtype=tf.int32, name=None), 'attention_mask': TensorSpec(shape=(512,), dtype=tf.int32, name=None)}, TensorSpec(shape=(5,), dtype=tf.float64, name=None))>"
      ]
     },
     "execution_count": 27,
     "metadata": {},
     "output_type": "execute_result"
    }
   ],
   "source": [
    "def map_func(input_ids, masks, labels):\n",
    "    # we convert our three-item tuple into a two-item tuple where the input item is a dictionary\n",
    "    return {'input_ids': input_ids, 'attention_mask': masks}, labels\n",
    "\n",
    "# then we use the dataset map method to apply this transformation\n",
    "dataset = dataset.map(map_func)\n",
    "\n",
    "dataset.take(1)"
   ]
  },
  {
   "cell_type": "markdown",
   "id": "52ff8ab5",
   "metadata": {
    "papermill": {
     "duration": 0.012566,
     "end_time": "2023-01-23T08:46:05.677904",
     "exception": false,
     "start_time": "2023-01-23T08:46:05.665338",
     "status": "completed"
    },
    "tags": []
   },
   "source": [
    "## Suffle data"
   ]
  },
  {
   "cell_type": "code",
   "execution_count": 28,
   "id": "24547585",
   "metadata": {
    "execution": {
     "iopub.execute_input": "2023-01-23T08:46:05.704041Z",
     "iopub.status.busy": "2023-01-23T08:46:05.703674Z",
     "iopub.status.idle": "2023-01-23T08:46:05.715761Z",
     "shell.execute_reply": "2023-01-23T08:46:05.714875Z"
    },
    "papermill": {
     "duration": 0.02802,
     "end_time": "2023-01-23T08:46:05.718265",
     "exception": false,
     "start_time": "2023-01-23T08:46:05.690245",
     "status": "completed"
    },
    "tags": []
   },
   "outputs": [],
   "source": [
    "batch_size = 16\n",
    "dataset = dataset.shuffle(10000).batch(batch_size, drop_remainder=True)"
   ]
  },
  {
   "cell_type": "code",
   "execution_count": 29,
   "id": "0bafc28e",
   "metadata": {
    "execution": {
     "iopub.execute_input": "2023-01-23T08:46:05.744781Z",
     "iopub.status.busy": "2023-01-23T08:46:05.744447Z",
     "iopub.status.idle": "2023-01-23T08:46:05.751865Z",
     "shell.execute_reply": "2023-01-23T08:46:05.750908Z"
    },
    "papermill": {
     "duration": 0.02369,
     "end_time": "2023-01-23T08:46:05.754228",
     "exception": false,
     "start_time": "2023-01-23T08:46:05.730538",
     "status": "completed"
    },
    "tags": []
   },
   "outputs": [
    {
     "data": {
      "text/plain": [
       "<TakeDataset element_spec=({'input_ids': TensorSpec(shape=(16, 512), dtype=tf.int32, name=None), 'attention_mask': TensorSpec(shape=(16, 512), dtype=tf.int32, name=None)}, TensorSpec(shape=(16, 5), dtype=tf.float64, name=None))>"
      ]
     },
     "execution_count": 29,
     "metadata": {},
     "output_type": "execute_result"
    }
   ],
   "source": [
    "dataset.take(1)"
   ]
  },
  {
   "cell_type": "code",
   "execution_count": 30,
   "id": "b8779434",
   "metadata": {
    "execution": {
     "iopub.execute_input": "2023-01-23T08:46:05.780473Z",
     "iopub.status.busy": "2023-01-23T08:46:05.780095Z",
     "iopub.status.idle": "2023-01-23T08:46:05.787853Z",
     "shell.execute_reply": "2023-01-23T08:46:05.786833Z"
    },
    "papermill": {
     "duration": 0.023421,
     "end_time": "2023-01-23T08:46:05.789941",
     "exception": false,
     "start_time": "2023-01-23T08:46:05.766520",
     "status": "completed"
    },
    "tags": []
   },
   "outputs": [
    {
     "data": {
      "text/plain": [
       "8778"
      ]
     },
     "execution_count": 30,
     "metadata": {},
     "output_type": "execute_result"
    }
   ],
   "source": [
    "split = 0.9\n",
    "size = int(( tokens[\"input_ids\"].shape[0] / batch_size) * split)\n",
    "size"
   ]
  },
  {
   "cell_type": "markdown",
   "id": "5b71c7f7",
   "metadata": {
    "papermill": {
     "duration": 0.012804,
     "end_time": "2023-01-23T08:46:05.815201",
     "exception": false,
     "start_time": "2023-01-23T08:46:05.802397",
     "status": "completed"
    },
    "tags": []
   },
   "source": [
    "## Split data to train and validation"
   ]
  },
  {
   "cell_type": "code",
   "execution_count": 31,
   "id": "1063e322",
   "metadata": {
    "execution": {
     "iopub.execute_input": "2023-01-23T08:46:05.841627Z",
     "iopub.status.busy": "2023-01-23T08:46:05.841204Z",
     "iopub.status.idle": "2023-01-23T08:46:05.847296Z",
     "shell.execute_reply": "2023-01-23T08:46:05.846319Z"
    },
    "papermill": {
     "duration": 0.022143,
     "end_time": "2023-01-23T08:46:05.849534",
     "exception": false,
     "start_time": "2023-01-23T08:46:05.827391",
     "status": "completed"
    },
    "tags": []
   },
   "outputs": [],
   "source": [
    "train_ds = dataset.take(size)\n",
    "val_ds = dataset.skip(size)"
   ]
  },
  {
   "cell_type": "code",
   "execution_count": 32,
   "id": "0f076a88",
   "metadata": {
    "execution": {
     "iopub.execute_input": "2023-01-23T08:46:05.877013Z",
     "iopub.status.busy": "2023-01-23T08:46:05.876702Z",
     "iopub.status.idle": "2023-01-23T08:46:05.884058Z",
     "shell.execute_reply": "2023-01-23T08:46:05.882915Z"
    },
    "papermill": {
     "duration": 0.024976,
     "end_time": "2023-01-23T08:46:05.887653",
     "exception": false,
     "start_time": "2023-01-23T08:46:05.862677",
     "status": "completed"
    },
    "tags": []
   },
   "outputs": [
    {
     "data": {
      "text/plain": [
       "<TakeDataset element_spec=({'input_ids': TensorSpec(shape=(16, 512), dtype=tf.int32, name=None), 'attention_mask': TensorSpec(shape=(16, 512), dtype=tf.int32, name=None)}, TensorSpec(shape=(16, 5), dtype=tf.float64, name=None))>"
      ]
     },
     "execution_count": 32,
     "metadata": {},
     "output_type": "execute_result"
    }
   ],
   "source": [
    "train_ds.take(1)"
   ]
  },
  {
   "cell_type": "markdown",
   "id": "096282cb",
   "metadata": {
    "papermill": {
     "duration": 0.012992,
     "end_time": "2023-01-23T08:46:05.913631",
     "exception": false,
     "start_time": "2023-01-23T08:46:05.900639",
     "status": "completed"
    },
    "tags": []
   },
   "source": [
    "## Now we want to use pretrained bert model"
   ]
  },
  {
   "cell_type": "code",
   "execution_count": 33,
   "id": "ad10d21c",
   "metadata": {
    "execution": {
     "iopub.execute_input": "2023-01-23T08:46:05.940203Z",
     "iopub.status.busy": "2023-01-23T08:46:05.939833Z",
     "iopub.status.idle": "2023-01-23T08:46:05.950980Z",
     "shell.execute_reply": "2023-01-23T08:46:05.950114Z"
    },
    "papermill": {
     "duration": 0.027114,
     "end_time": "2023-01-23T08:46:05.953410",
     "exception": false,
     "start_time": "2023-01-23T08:46:05.926296",
     "status": "completed"
    },
    "tags": []
   },
   "outputs": [],
   "source": [
    "from transformers import TFAutoModel"
   ]
  },
  {
   "cell_type": "code",
   "execution_count": 25,
   "id": "f1406b1b",
   "metadata": {
    "execution": {
     "iopub.execute_input": "2023-01-23T08:46:05.980417Z",
     "iopub.status.busy": "2023-01-23T08:46:05.980085Z",
     "iopub.status.idle": "2023-01-23T08:46:34.154966Z",
     "shell.execute_reply": "2023-01-23T08:46:34.153703Z"
    },
    "papermill": {
     "duration": 28.191225,
     "end_time": "2023-01-23T08:46:34.157557",
     "exception": false,
     "start_time": "2023-01-23T08:46:05.966332",
     "status": "completed"
    },
    "tags": []
   },
   "outputs": [
    {
     "data": {
      "application/vnd.jupyter.widget-view+json": {
       "model_id": "d1419bb03e9f4e99a1b91e8606f9a00e",
       "version_major": 2,
       "version_minor": 0
      },
      "text/plain": [
       "Downloading:   0%|          | 0.00/502M [00:00<?, ?B/s]"
      ]
     },
     "metadata": {},
     "output_type": "display_data"
    },
    {
     "name": "stderr",
     "output_type": "stream",
     "text": [
      "Some layers from the model checkpoint at bert-base-cased were not used when initializing TFBertModel: ['mlm___cls', 'nsp___cls']\n",
      "- This IS expected if you are initializing TFBertModel from the checkpoint of a model trained on another task or with another architecture (e.g. initializing a BertForSequenceClassification model from a BertForPreTraining model).\n",
      "- This IS NOT expected if you are initializing TFBertModel from the checkpoint of a model that you expect to be exactly identical (initializing a BertForSequenceClassification model from a BertForSequenceClassification model).\n",
      "All the layers of TFBertModel were initialized from the model checkpoint at bert-base-cased.\n",
      "If your task is similar to the task the model of the checkpoint was trained on, you can already use TFBertModel for predictions without further training.\n"
     ]
    }
   ],
   "source": [
    "bert = TFAutoModel.from_pretrained(\"bert-base-cased\")"
   ]
  },
  {
   "cell_type": "code",
   "execution_count": 26,
   "id": "cba68ec8",
   "metadata": {
    "execution": {
     "iopub.execute_input": "2023-01-23T08:46:34.188412Z",
     "iopub.status.busy": "2023-01-23T08:46:34.186557Z",
     "iopub.status.idle": "2023-01-23T08:46:34.204665Z",
     "shell.execute_reply": "2023-01-23T08:46:34.202990Z"
    },
    "papermill": {
     "duration": 0.036258,
     "end_time": "2023-01-23T08:46:34.207703",
     "exception": false,
     "start_time": "2023-01-23T08:46:34.171445",
     "status": "completed"
    },
    "tags": []
   },
   "outputs": [
    {
     "name": "stdout",
     "output_type": "stream",
     "text": [
      "Model: \"tf_bert_model\"\n",
      "_________________________________________________________________\n",
      "Layer (type)                 Output Shape              Param #   \n",
      "=================================================================\n",
      "bert (TFBertMainLayer)       multiple                  108310272 \n",
      "=================================================================\n",
      "Total params: 108,310,272\n",
      "Trainable params: 108,310,272\n",
      "Non-trainable params: 0\n",
      "_________________________________________________________________\n"
     ]
    }
   ],
   "source": [
    "bert.summary()"
   ]
  },
  {
   "cell_type": "code",
   "execution_count": 27,
   "id": "60e2751c",
   "metadata": {
    "execution": {
     "iopub.execute_input": "2023-01-23T08:46:34.237158Z",
     "iopub.status.busy": "2023-01-23T08:46:34.236252Z",
     "iopub.status.idle": "2023-01-23T08:46:41.643651Z",
     "shell.execute_reply": "2023-01-23T08:46:41.641943Z"
    },
    "papermill": {
     "duration": 7.42662,
     "end_time": "2023-01-23T08:46:41.648269",
     "exception": false,
     "start_time": "2023-01-23T08:46:34.221649",
     "status": "completed"
    },
    "tags": []
   },
   "outputs": [],
   "source": [
    "input_ids = tf.keras.layers.Input(shape=(512,), name='input_ids', dtype='int32')\n",
    "mask = tf.keras.layers.Input(shape=(512,), name='attention_mask', dtype='int32')\n",
    "\n",
    "# we access the transformer model within our bert object using the bert attribute (eg bert.bert instead of bert)\n",
    "embeddings = bert.bert(input_ids, attention_mask=mask)[1]  # access final activations (alread max-pooled) [1]\n",
    "# convert bert embeddings into 5 output classes\n",
    "x = tf.keras.layers.Dense(1024, activation='relu')(embeddings)\n",
    "y = tf.keras.layers.Dense(5, activation='softmax', name='outputs')(x)"
   ]
  },
  {
   "cell_type": "code",
   "execution_count": 28,
   "id": "f571ff6e",
   "metadata": {
    "execution": {
     "iopub.execute_input": "2023-01-23T08:46:41.726648Z",
     "iopub.status.busy": "2023-01-23T08:46:41.725586Z",
     "iopub.status.idle": "2023-01-23T08:46:41.788175Z",
     "shell.execute_reply": "2023-01-23T08:46:41.785752Z"
    },
    "papermill": {
     "duration": 0.105732,
     "end_time": "2023-01-23T08:46:41.791946",
     "exception": false,
     "start_time": "2023-01-23T08:46:41.686214",
     "status": "completed"
    },
    "tags": []
   },
   "outputs": [
    {
     "name": "stdout",
     "output_type": "stream",
     "text": [
      "Model: \"model\"\n",
      "__________________________________________________________________________________________________\n",
      "Layer (type)                    Output Shape         Param #     Connected to                     \n",
      "==================================================================================================\n",
      "input_ids (InputLayer)          [(None, 512)]        0                                            \n",
      "__________________________________________________________________________________________________\n",
      "attention_mask (InputLayer)     [(None, 512)]        0                                            \n",
      "__________________________________________________________________________________________________\n",
      "bert (TFBertMainLayer)          TFBaseModelOutputWit 108310272   input_ids[0][0]                  \n",
      "                                                                 attention_mask[0][0]             \n",
      "__________________________________________________________________________________________________\n",
      "dense (Dense)                   (None, 1024)         787456      bert[0][1]                       \n",
      "__________________________________________________________________________________________________\n",
      "outputs (Dense)                 (None, 5)            5125        dense[0][0]                      \n",
      "==================================================================================================\n",
      "Total params: 109,102,853\n",
      "Trainable params: 792,581\n",
      "Non-trainable params: 108,310,272\n",
      "__________________________________________________________________________________________________\n"
     ]
    }
   ],
   "source": [
    "# initialize model\n",
    "model = tf.keras.Model(inputs=[input_ids, mask], outputs=y)\n",
    "\n",
    "# freeze bert layer\n",
    "model.layers[2].trainable = False\n",
    "\n",
    "# print out model summary\n",
    "model.summary()"
   ]
  },
  {
   "cell_type": "code",
   "execution_count": 29,
   "id": "1c747d4f",
   "metadata": {
    "execution": {
     "iopub.execute_input": "2023-01-23T08:46:41.867676Z",
     "iopub.status.busy": "2023-01-23T08:46:41.866153Z",
     "iopub.status.idle": "2023-01-23T08:46:41.909684Z",
     "shell.execute_reply": "2023-01-23T08:46:41.908201Z"
    },
    "papermill": {
     "duration": 0.084258,
     "end_time": "2023-01-23T08:46:41.913949",
     "exception": false,
     "start_time": "2023-01-23T08:46:41.829691",
     "status": "completed"
    },
    "tags": []
   },
   "outputs": [],
   "source": [
    "optimizer = tf.keras.optimizers.Adam(learning_rate=1e-5, decay=1e-6)\n",
    "loss = tf.keras.losses.CategoricalCrossentropy()\n",
    "acc = tf.keras.metrics.CategoricalAccuracy('accuracy')\n",
    "\n",
    "model.compile(optimizer=optimizer, loss=loss, metrics=[acc])"
   ]
  },
  {
   "cell_type": "code",
   "execution_count": 30,
   "id": "a85e2d14",
   "metadata": {
    "execution": {
     "iopub.execute_input": "2023-01-23T08:46:41.983191Z",
     "iopub.status.busy": "2023-01-23T08:46:41.982754Z",
     "iopub.status.idle": "2023-01-23T10:45:09.166324Z",
     "shell.execute_reply": "2023-01-23T10:45:09.165163Z"
    },
    "papermill": {
     "duration": 7107.755593,
     "end_time": "2023-01-23T10:45:09.705444",
     "exception": false,
     "start_time": "2023-01-23T08:46:41.949851",
     "status": "completed"
    },
    "tags": []
   },
   "outputs": [
    {
     "name": "stderr",
     "output_type": "stream",
     "text": [
      "2023-01-23 08:46:50.697796: I tensorflow/compiler/mlir/mlir_graph_optimization_pass.cc:185] None of the MLIR Optimization Passes are enabled (registered 2)\n"
     ]
    },
    {
     "name": "stdout",
     "output_type": "stream",
     "text": [
      "8778/8778 [==============================] - 7105s 809ms/step - loss: 1.1553 - accuracy: 0.5388 - val_loss: 1.1298 - val_accuracy: 0.5482\n"
     ]
    }
   ],
   "source": [
    "history = model.fit(train_ds, validation_data=val_ds, epochs=1)"
   ]
  },
  {
   "cell_type": "markdown",
   "id": "f05c5723",
   "metadata": {
    "papermill": {
     "duration": 0.493057,
     "end_time": "2023-01-23T10:45:10.702456",
     "exception": false,
     "start_time": "2023-01-23T10:45:10.209399",
     "status": "completed"
    },
    "tags": []
   },
   "source": [
    "For saving the time I use just one epoch"
   ]
  },
  {
   "cell_type": "code",
   "execution_count": 31,
   "id": "80a9c05b",
   "metadata": {
    "execution": {
     "iopub.execute_input": "2023-01-23T10:45:11.761003Z",
     "iopub.status.busy": "2023-01-23T10:45:11.760629Z",
     "iopub.status.idle": "2023-01-23T10:45:11.768048Z",
     "shell.execute_reply": "2023-01-23T10:45:11.766103Z"
    },
    "papermill": {
     "duration": 0.508609,
     "end_time": "2023-01-23T10:45:11.770320",
     "exception": false,
     "start_time": "2023-01-23T10:45:11.261711",
     "status": "completed"
    },
    "tags": []
   },
   "outputs": [],
   "source": [
    "def prep_data(text):\n",
    "    tokens = tokenizer.encode_plus(text, max_length=512,\n",
    "                                   truncation=True, padding='max_length',\n",
    "                                   add_special_tokens=True, \n",
    "                                   return_token_type_ids=False,\n",
    "                                   return_tensors='tf')\n",
    "    # tokenizer returns int32 tensors, we need to return float64, so we use tf.cast\n",
    "    return {'input_ids': tf.cast(tokens['input_ids'], tf.float64),\n",
    "            'attention_mask': tf.cast(tokens['attention_mask'], tf.float64)}"
   ]
  },
  {
   "cell_type": "markdown",
   "id": "5fd05f1b",
   "metadata": {
    "papermill": {
     "duration": 0.545648,
     "end_time": "2023-01-23T10:45:12.810111",
     "exception": false,
     "start_time": "2023-01-23T10:45:12.264463",
     "status": "completed"
    },
    "tags": []
   },
   "source": [
    "## first preper data and then sent to our model"
   ]
  },
  {
   "cell_type": "code",
   "execution_count": 32,
   "id": "fddacc1f",
   "metadata": {
    "execution": {
     "iopub.execute_input": "2023-01-23T10:45:14.002789Z",
     "iopub.status.busy": "2023-01-23T10:45:14.001467Z",
     "iopub.status.idle": "2023-01-23T10:45:17.117544Z",
     "shell.execute_reply": "2023-01-23T10:45:17.116192Z"
    },
    "papermill": {
     "duration": 3.820656,
     "end_time": "2023-01-23T10:45:17.120490",
     "exception": false,
     "start_time": "2023-01-23T10:45:13.299834",
     "status": "completed"
    },
    "tags": []
   },
   "outputs": [
    {
     "data": {
      "text/plain": [
       "array([0.03844388, 0.18379568, 0.5250365 , 0.20397957, 0.04874434],\n",
       "      dtype=float32)"
      ]
     },
     "execution_count": 32,
     "metadata": {},
     "output_type": "execute_result"
    }
   ],
   "source": [
    "probs = model.predict(prep_data(\"hello world\"))[0]\n",
    "probs"
   ]
  },
  {
   "cell_type": "code",
   "execution_count": 33,
   "id": "a541665e",
   "metadata": {
    "execution": {
     "iopub.execute_input": "2023-01-23T10:45:18.204231Z",
     "iopub.status.busy": "2023-01-23T10:45:18.203828Z",
     "iopub.status.idle": "2023-01-23T10:45:18.210599Z",
     "shell.execute_reply": "2023-01-23T10:45:18.209579Z"
    },
    "papermill": {
     "duration": 0.568237,
     "end_time": "2023-01-23T10:45:18.212755",
     "exception": false,
     "start_time": "2023-01-23T10:45:17.644518",
     "status": "completed"
    },
    "tags": []
   },
   "outputs": [
    {
     "data": {
      "text/plain": [
       "2"
      ]
     },
     "execution_count": 33,
     "metadata": {},
     "output_type": "execute_result"
    }
   ],
   "source": [
    "np.argmax(probs)"
   ]
  },
  {
   "cell_type": "markdown",
   "id": "4ec96abd",
   "metadata": {
    "papermill": {
     "duration": 0.572755,
     "end_time": "2023-01-23T10:45:19.308510",
     "exception": false,
     "start_time": "2023-01-23T10:45:18.735755",
     "status": "completed"
    },
    "tags": []
   },
   "source": [
    "So we have made a test prediction, but we want to be applying this to real phrases from test.tsv. We will load the data into a dataframe, remove fragment duplicates based on SentenceId"
   ]
  },
  {
   "cell_type": "code",
   "execution_count": 34,
   "id": "af3e2b73",
   "metadata": {
    "execution": {
     "iopub.execute_input": "2023-01-23T10:45:20.562112Z",
     "iopub.status.busy": "2023-01-23T10:45:20.561725Z",
     "iopub.status.idle": "2023-01-23T10:45:20.659533Z",
     "shell.execute_reply": "2023-01-23T10:45:20.658609Z"
    },
    "papermill": {
     "duration": 0.777542,
     "end_time": "2023-01-23T10:45:20.661912",
     "exception": false,
     "start_time": "2023-01-23T10:45:19.884370",
     "status": "completed"
    },
    "tags": []
   },
   "outputs": [
    {
     "data": {
      "text/html": [
       "<div>\n",
       "<style scoped>\n",
       "    .dataframe tbody tr th:only-of-type {\n",
       "        vertical-align: middle;\n",
       "    }\n",
       "\n",
       "    .dataframe tbody tr th {\n",
       "        vertical-align: top;\n",
       "    }\n",
       "\n",
       "    .dataframe thead th {\n",
       "        text-align: right;\n",
       "    }\n",
       "</style>\n",
       "<table border=\"1\" class=\"dataframe\">\n",
       "  <thead>\n",
       "    <tr style=\"text-align: right;\">\n",
       "      <th></th>\n",
       "      <th>PhraseId</th>\n",
       "      <th>SentenceId</th>\n",
       "      <th>Phrase</th>\n",
       "    </tr>\n",
       "  </thead>\n",
       "  <tbody>\n",
       "    <tr>\n",
       "      <th>0</th>\n",
       "      <td>156061</td>\n",
       "      <td>8545</td>\n",
       "      <td>An intermittently pleasing but mostly routine effort .</td>\n",
       "    </tr>\n",
       "    <tr>\n",
       "      <th>1</th>\n",
       "      <td>156062</td>\n",
       "      <td>8545</td>\n",
       "      <td>An intermittently pleasing but mostly routine effort</td>\n",
       "    </tr>\n",
       "    <tr>\n",
       "      <th>2</th>\n",
       "      <td>156063</td>\n",
       "      <td>8545</td>\n",
       "      <td>An</td>\n",
       "    </tr>\n",
       "    <tr>\n",
       "      <th>3</th>\n",
       "      <td>156064</td>\n",
       "      <td>8545</td>\n",
       "      <td>intermittently pleasing but mostly routine effort</td>\n",
       "    </tr>\n",
       "    <tr>\n",
       "      <th>4</th>\n",
       "      <td>156065</td>\n",
       "      <td>8545</td>\n",
       "      <td>intermittently pleasing but mostly routine</td>\n",
       "    </tr>\n",
       "  </tbody>\n",
       "</table>\n",
       "</div>"
      ],
      "text/plain": [
       "   PhraseId  SentenceId  \\\n",
       "0    156061        8545   \n",
       "1    156062        8545   \n",
       "2    156063        8545   \n",
       "3    156064        8545   \n",
       "4    156065        8545   \n",
       "\n",
       "                                                   Phrase  \n",
       "0  An intermittently pleasing but mostly routine effort .  \n",
       "1    An intermittently pleasing but mostly routine effort  \n",
       "2                                                      An  \n",
       "3       intermittently pleasing but mostly routine effort  \n",
       "4              intermittently pleasing but mostly routine  "
      ]
     },
     "execution_count": 34,
     "metadata": {},
     "output_type": "execute_result"
    }
   ],
   "source": [
    "pd.set_option('display.max_colwidth', None)\n",
    "tdf = pd.read_csv('/kaggle/input/sentiment-analysis-on-movie-reviews/test.tsv.zip',sep='\\t')\n",
    "tdf.head()"
   ]
  },
  {
   "cell_type": "code",
   "execution_count": 35,
   "id": "56857393",
   "metadata": {
    "execution": {
     "iopub.execute_input": "2023-01-23T10:45:21.650719Z",
     "iopub.status.busy": "2023-01-23T10:45:21.650276Z",
     "iopub.status.idle": "2023-01-23T10:45:21.664658Z",
     "shell.execute_reply": "2023-01-23T10:45:21.663546Z"
    },
    "papermill": {
     "duration": 0.514912,
     "end_time": "2023-01-23T10:45:21.667063",
     "exception": false,
     "start_time": "2023-01-23T10:45:21.152151",
     "status": "completed"
    },
    "tags": []
   },
   "outputs": [
    {
     "data": {
      "text/html": [
       "<div>\n",
       "<style scoped>\n",
       "    .dataframe tbody tr th:only-of-type {\n",
       "        vertical-align: middle;\n",
       "    }\n",
       "\n",
       "    .dataframe tbody tr th {\n",
       "        vertical-align: top;\n",
       "    }\n",
       "\n",
       "    .dataframe thead th {\n",
       "        text-align: right;\n",
       "    }\n",
       "</style>\n",
       "<table border=\"1\" class=\"dataframe\">\n",
       "  <thead>\n",
       "    <tr style=\"text-align: right;\">\n",
       "      <th></th>\n",
       "      <th>PhraseId</th>\n",
       "      <th>SentenceId</th>\n",
       "      <th>Phrase</th>\n",
       "    </tr>\n",
       "  </thead>\n",
       "  <tbody>\n",
       "    <tr>\n",
       "      <th>0</th>\n",
       "      <td>156061</td>\n",
       "      <td>8545</td>\n",
       "      <td>An intermittently pleasing but mostly routine effort .</td>\n",
       "    </tr>\n",
       "    <tr>\n",
       "      <th>15</th>\n",
       "      <td>156076</td>\n",
       "      <td>8546</td>\n",
       "      <td>Kidman is really the only thing that 's worth watching in Birthday Girl , a film by the stage-trained Jez Butterworth -LRB- Mojo -RRB- that serves as yet another example of the sad decline of British comedies in the post-Full Monty world .</td>\n",
       "    </tr>\n",
       "    <tr>\n",
       "      <th>93</th>\n",
       "      <td>156154</td>\n",
       "      <td>8547</td>\n",
       "      <td>Once you get into its rhythm ... the movie becomes a heady experience .</td>\n",
       "    </tr>\n",
       "    <tr>\n",
       "      <th>117</th>\n",
       "      <td>156178</td>\n",
       "      <td>8548</td>\n",
       "      <td>I kept wishing I was watching a documentary about the wartime Navajos and what they accomplished instead of all this specious Hollywood hoo-ha .</td>\n",
       "    </tr>\n",
       "    <tr>\n",
       "      <th>158</th>\n",
       "      <td>156219</td>\n",
       "      <td>8549</td>\n",
       "      <td>Kinnear does n't aim for our sympathy , but rather delivers a performance of striking skill and depth .</td>\n",
       "    </tr>\n",
       "  </tbody>\n",
       "</table>\n",
       "</div>"
      ],
      "text/plain": [
       "     PhraseId  SentenceId  \\\n",
       "0      156061        8545   \n",
       "15     156076        8546   \n",
       "93     156154        8547   \n",
       "117    156178        8548   \n",
       "158    156219        8549   \n",
       "\n",
       "                                                                                                                                                                                                                                              Phrase  \n",
       "0                                                                                                                                                                                             An intermittently pleasing but mostly routine effort .  \n",
       "15   Kidman is really the only thing that 's worth watching in Birthday Girl , a film by the stage-trained Jez Butterworth -LRB- Mojo -RRB- that serves as yet another example of the sad decline of British comedies in the post-Full Monty world .  \n",
       "93                                                                                                                                                                           Once you get into its rhythm ... the movie becomes a heady experience .  \n",
       "117                                                                                                 I kept wishing I was watching a documentary about the wartime Navajos and what they accomplished instead of all this specious Hollywood hoo-ha .  \n",
       "158                                                                                                                                          Kinnear does n't aim for our sympathy , but rather delivers a performance of striking skill and depth .  "
      ]
     },
     "execution_count": 35,
     "metadata": {},
     "output_type": "execute_result"
    }
   ],
   "source": [
    "tdf = tdf.drop_duplicates(subset=['SentenceId'], keep='first')\n",
    "tdf.head()"
   ]
  },
  {
   "cell_type": "markdown",
   "id": "8343e02e",
   "metadata": {
    "papermill": {
     "duration": 0.546421,
     "end_time": "2023-01-23T10:45:22.687409",
     "exception": false,
     "start_time": "2023-01-23T10:45:22.140988",
     "status": "completed"
    },
    "tags": []
   },
   "source": [
    "Now we initialize our new sentiment column, and begin making predictions"
   ]
  },
  {
   "cell_type": "code",
   "execution_count": 36,
   "id": "f4ef2dd4",
   "metadata": {
    "execution": {
     "iopub.execute_input": "2023-01-23T10:45:23.663036Z",
     "iopub.status.busy": "2023-01-23T10:45:23.662690Z",
     "iopub.status.idle": "2023-01-23T10:51:36.357945Z",
     "shell.execute_reply": "2023-01-23T10:51:36.356943Z"
    },
    "papermill": {
     "duration": 373.736747,
     "end_time": "2023-01-23T10:51:36.905356",
     "exception": false,
     "start_time": "2023-01-23T10:45:23.168609",
     "status": "completed"
    },
    "tags": []
   },
   "outputs": [
    {
     "data": {
      "text/html": [
       "<div>\n",
       "<style scoped>\n",
       "    .dataframe tbody tr th:only-of-type {\n",
       "        vertical-align: middle;\n",
       "    }\n",
       "\n",
       "    .dataframe tbody tr th {\n",
       "        vertical-align: top;\n",
       "    }\n",
       "\n",
       "    .dataframe thead th {\n",
       "        text-align: right;\n",
       "    }\n",
       "</style>\n",
       "<table border=\"1\" class=\"dataframe\">\n",
       "  <thead>\n",
       "    <tr style=\"text-align: right;\">\n",
       "      <th></th>\n",
       "      <th>PhraseId</th>\n",
       "      <th>SentenceId</th>\n",
       "      <th>Phrase</th>\n",
       "      <th>Sentiment</th>\n",
       "    </tr>\n",
       "  </thead>\n",
       "  <tbody>\n",
       "    <tr>\n",
       "      <th>0</th>\n",
       "      <td>156061</td>\n",
       "      <td>8545</td>\n",
       "      <td>An intermittently pleasing but mostly routine effort .</td>\n",
       "      <td>2</td>\n",
       "    </tr>\n",
       "    <tr>\n",
       "      <th>15</th>\n",
       "      <td>156076</td>\n",
       "      <td>8546</td>\n",
       "      <td>Kidman is really the only thing that 's worth watching in Birthday Girl , a film by the stage-trained Jez Butterworth -LRB- Mojo -RRB- that serves as yet another example of the sad decline of British comedies in the post-Full Monty world .</td>\n",
       "      <td>1</td>\n",
       "    </tr>\n",
       "    <tr>\n",
       "      <th>93</th>\n",
       "      <td>156154</td>\n",
       "      <td>8547</td>\n",
       "      <td>Once you get into its rhythm ... the movie becomes a heady experience .</td>\n",
       "      <td>3</td>\n",
       "    </tr>\n",
       "    <tr>\n",
       "      <th>117</th>\n",
       "      <td>156178</td>\n",
       "      <td>8548</td>\n",
       "      <td>I kept wishing I was watching a documentary about the wartime Navajos and what they accomplished instead of all this specious Hollywood hoo-ha .</td>\n",
       "      <td>1</td>\n",
       "    </tr>\n",
       "    <tr>\n",
       "      <th>158</th>\n",
       "      <td>156219</td>\n",
       "      <td>8549</td>\n",
       "      <td>Kinnear does n't aim for our sympathy , but rather delivers a performance of striking skill and depth .</td>\n",
       "      <td>3</td>\n",
       "    </tr>\n",
       "  </tbody>\n",
       "</table>\n",
       "</div>"
      ],
      "text/plain": [
       "     PhraseId  SentenceId  \\\n",
       "0      156061        8545   \n",
       "15     156076        8546   \n",
       "93     156154        8547   \n",
       "117    156178        8548   \n",
       "158    156219        8549   \n",
       "\n",
       "                                                                                                                                                                                                                                              Phrase  \\\n",
       "0                                                                                                                                                                                             An intermittently pleasing but mostly routine effort .   \n",
       "15   Kidman is really the only thing that 's worth watching in Birthday Girl , a film by the stage-trained Jez Butterworth -LRB- Mojo -RRB- that serves as yet another example of the sad decline of British comedies in the post-Full Monty world .   \n",
       "93                                                                                                                                                                           Once you get into its rhythm ... the movie becomes a heady experience .   \n",
       "117                                                                                                 I kept wishing I was watching a documentary about the wartime Navajos and what they accomplished instead of all this specious Hollywood hoo-ha .   \n",
       "158                                                                                                                                          Kinnear does n't aim for our sympathy , but rather delivers a performance of striking skill and depth .   \n",
       "\n",
       "    Sentiment  \n",
       "0           2  \n",
       "15          1  \n",
       "93          3  \n",
       "117         1  \n",
       "158         3  "
      ]
     },
     "execution_count": 36,
     "metadata": {},
     "output_type": "execute_result"
    }
   ],
   "source": [
    "tdf['Sentiment'] = None\n",
    "\n",
    "for i, row in tdf.iterrows():\n",
    "    # get token tensors\n",
    "    tokens = prep_data(row['Phrase'])\n",
    "    # get probabilities\n",
    "    probs = model.predict(tokens)\n",
    "    # find argmax for winning class\n",
    "    pred = np.argmax(probs)\n",
    "    # add to dataframe\n",
    "    tdf.at[i, 'Sentiment'] = pred\n",
    "\n",
    "tdf.head()"
   ]
  },
  {
   "cell_type": "code",
   "execution_count": null,
   "id": "635dc4d3",
   "metadata": {
    "papermill": {
     "duration": 0.502984,
     "end_time": "2023-01-23T10:51:37.887775",
     "exception": false,
     "start_time": "2023-01-23T10:51:37.384791",
     "status": "completed"
    },
    "tags": []
   },
   "outputs": [],
   "source": []
  }
 ],
 "metadata": {
  "kernelspec": {
   "display_name": "Python 3 (ipykernel)",
   "language": "python",
   "name": "python3"
  },
  "language_info": {
   "codemirror_mode": {
    "name": "ipython",
    "version": 3
   },
   "file_extension": ".py",
   "mimetype": "text/x-python",
   "name": "python",
   "nbconvert_exporter": "python",
   "pygments_lexer": "ipython3",
   "version": "3.9.7"
  },
  "papermill": {
   "default_parameters": {},
   "duration": 7622.683701,
   "end_time": "2023-01-23T10:51:41.379768",
   "environment_variables": {},
   "exception": null,
   "input_path": "__notebook__.ipynb",
   "output_path": "__notebook__.ipynb",
   "parameters": {},
   "start_time": "2023-01-23T08:44:38.696067",
   "version": "2.3.4"
  },
  "widgets": {
   "application/vnd.jupyter.widget-state+json": {
    "state": {
     "05221bfba8954e1882ecb763263274b4": {
      "model_module": "@jupyter-widgets/controls",
      "model_module_version": "1.5.0",
      "model_name": "DescriptionStyleModel",
      "state": {
       "_model_module": "@jupyter-widgets/controls",
       "_model_module_version": "1.5.0",
       "_model_name": "DescriptionStyleModel",
       "_view_count": null,
       "_view_module": "@jupyter-widgets/base",
       "_view_module_version": "1.2.0",
       "_view_name": "StyleView",
       "description_width": ""
      }
     },
     "0ad611ed963442639b3867df4e0e0d80": {
      "model_module": "@jupyter-widgets/base",
      "model_module_version": "1.2.0",
      "model_name": "LayoutModel",
      "state": {
       "_model_module": "@jupyter-widgets/base",
       "_model_module_version": "1.2.0",
       "_model_name": "LayoutModel",
       "_view_count": null,
       "_view_module": "@jupyter-widgets/base",
       "_view_module_version": "1.2.0",
       "_view_name": "LayoutView",
       "align_content": null,
       "align_items": null,
       "align_self": null,
       "border": null,
       "bottom": null,
       "display": null,
       "flex": null,
       "flex_flow": null,
       "grid_area": null,
       "grid_auto_columns": null,
       "grid_auto_flow": null,
       "grid_auto_rows": null,
       "grid_column": null,
       "grid_gap": null,
       "grid_row": null,
       "grid_template_areas": null,
       "grid_template_columns": null,
       "grid_template_rows": null,
       "height": null,
       "justify_content": null,
       "justify_items": null,
       "left": null,
       "margin": null,
       "max_height": null,
       "max_width": null,
       "min_height": null,
       "min_width": null,
       "object_fit": null,
       "object_position": null,
       "order": null,
       "overflow": null,
       "overflow_x": null,
       "overflow_y": null,
       "padding": null,
       "right": null,
       "top": null,
       "visibility": null,
       "width": null
      }
     },
     "1903e6614e274e1aa3d3cf6f0410700e": {
      "model_module": "@jupyter-widgets/controls",
      "model_module_version": "1.5.0",
      "model_name": "HTMLModel",
      "state": {
       "_dom_classes": [],
       "_model_module": "@jupyter-widgets/controls",
       "_model_module_version": "1.5.0",
       "_model_name": "HTMLModel",
       "_view_count": null,
       "_view_module": "@jupyter-widgets/controls",
       "_view_module_version": "1.5.0",
       "_view_name": "HTMLView",
       "description": "",
       "description_tooltip": null,
       "layout": "IPY_MODEL_cd83ceec3c59477fbcffaa17fdc1d28f",
       "placeholder": "​",
       "style": "IPY_MODEL_644f7a4d22f4439a9615f3f8f630fa3a",
       "value": " 502M/502M [00:18&lt;00:00, 31.0MB/s]"
      }
     },
     "24b35f7df3154109b865f7188196b92a": {
      "model_module": "@jupyter-widgets/controls",
      "model_module_version": "1.5.0",
      "model_name": "ProgressStyleModel",
      "state": {
       "_model_module": "@jupyter-widgets/controls",
       "_model_module_version": "1.5.0",
       "_model_name": "ProgressStyleModel",
       "_view_count": null,
       "_view_module": "@jupyter-widgets/base",
       "_view_module_version": "1.2.0",
       "_view_name": "StyleView",
       "bar_color": null,
       "description_width": ""
      }
     },
     "291d834a6b94433da931b0d7da5ef005": {
      "model_module": "@jupyter-widgets/controls",
      "model_module_version": "1.5.0",
      "model_name": "HBoxModel",
      "state": {
       "_dom_classes": [],
       "_model_module": "@jupyter-widgets/controls",
       "_model_module_version": "1.5.0",
       "_model_name": "HBoxModel",
       "_view_count": null,
       "_view_module": "@jupyter-widgets/controls",
       "_view_module_version": "1.5.0",
       "_view_name": "HBoxView",
       "box_style": "",
       "children": [
        "IPY_MODEL_568825c547d14b3f8971105c3417c0a3",
        "IPY_MODEL_f173855d5a324bb581a9b33a0782371f",
        "IPY_MODEL_763e8b3d993f4f3b95923bd5f09c3e79"
       ],
       "layout": "IPY_MODEL_dfc8427166a84c7586df5f090c54c72d"
      }
     },
     "3150505bc73144e7ab67391062c27492": {
      "model_module": "@jupyter-widgets/base",
      "model_module_version": "1.2.0",
      "model_name": "LayoutModel",
      "state": {
       "_model_module": "@jupyter-widgets/base",
       "_model_module_version": "1.2.0",
       "_model_name": "LayoutModel",
       "_view_count": null,
       "_view_module": "@jupyter-widgets/base",
       "_view_module_version": "1.2.0",
       "_view_name": "LayoutView",
       "align_content": null,
       "align_items": null,
       "align_self": null,
       "border": null,
       "bottom": null,
       "display": null,
       "flex": null,
       "flex_flow": null,
       "grid_area": null,
       "grid_auto_columns": null,
       "grid_auto_flow": null,
       "grid_auto_rows": null,
       "grid_column": null,
       "grid_gap": null,
       "grid_row": null,
       "grid_template_areas": null,
       "grid_template_columns": null,
       "grid_template_rows": null,
       "height": null,
       "justify_content": null,
       "justify_items": null,
       "left": null,
       "margin": null,
       "max_height": null,
       "max_width": null,
       "min_height": null,
       "min_width": null,
       "object_fit": null,
       "object_position": null,
       "order": null,
       "overflow": null,
       "overflow_x": null,
       "overflow_y": null,
       "padding": null,
       "right": null,
       "top": null,
       "visibility": null,
       "width": null
      }
     },
     "3b42ee3029d94e3aacb05a7c022dccd0": {
      "model_module": "@jupyter-widgets/controls",
      "model_module_version": "1.5.0",
      "model_name": "DescriptionStyleModel",
      "state": {
       "_model_module": "@jupyter-widgets/controls",
       "_model_module_version": "1.5.0",
       "_model_name": "DescriptionStyleModel",
       "_view_count": null,
       "_view_module": "@jupyter-widgets/base",
       "_view_module_version": "1.2.0",
       "_view_name": "StyleView",
       "description_width": ""
      }
     },
     "3c915b4f44a94732b96bbb0ee9d7d891": {
      "model_module": "@jupyter-widgets/base",
      "model_module_version": "1.2.0",
      "model_name": "LayoutModel",
      "state": {
       "_model_module": "@jupyter-widgets/base",
       "_model_module_version": "1.2.0",
       "_model_name": "LayoutModel",
       "_view_count": null,
       "_view_module": "@jupyter-widgets/base",
       "_view_module_version": "1.2.0",
       "_view_name": "LayoutView",
       "align_content": null,
       "align_items": null,
       "align_self": null,
       "border": null,
       "bottom": null,
       "display": null,
       "flex": null,
       "flex_flow": null,
       "grid_area": null,
       "grid_auto_columns": null,
       "grid_auto_flow": null,
       "grid_auto_rows": null,
       "grid_column": null,
       "grid_gap": null,
       "grid_row": null,
       "grid_template_areas": null,
       "grid_template_columns": null,
       "grid_template_rows": null,
       "height": null,
       "justify_content": null,
       "justify_items": null,
       "left": null,
       "margin": null,
       "max_height": null,
       "max_width": null,
       "min_height": null,
       "min_width": null,
       "object_fit": null,
       "object_position": null,
       "order": null,
       "overflow": null,
       "overflow_x": null,
       "overflow_y": null,
       "padding": null,
       "right": null,
       "top": null,
       "visibility": null,
       "width": null
      }
     },
     "3efb144a8e444e62b34836f22ed47276": {
      "model_module": "@jupyter-widgets/controls",
      "model_module_version": "1.5.0",
      "model_name": "DescriptionStyleModel",
      "state": {
       "_model_module": "@jupyter-widgets/controls",
       "_model_module_version": "1.5.0",
       "_model_name": "DescriptionStyleModel",
       "_view_count": null,
       "_view_module": "@jupyter-widgets/base",
       "_view_module_version": "1.2.0",
       "_view_name": "StyleView",
       "description_width": ""
      }
     },
     "43f7367319ec44b3a8a0e1876c1d2648": {
      "model_module": "@jupyter-widgets/base",
      "model_module_version": "1.2.0",
      "model_name": "LayoutModel",
      "state": {
       "_model_module": "@jupyter-widgets/base",
       "_model_module_version": "1.2.0",
       "_model_name": "LayoutModel",
       "_view_count": null,
       "_view_module": "@jupyter-widgets/base",
       "_view_module_version": "1.2.0",
       "_view_name": "LayoutView",
       "align_content": null,
       "align_items": null,
       "align_self": null,
       "border": null,
       "bottom": null,
       "display": null,
       "flex": null,
       "flex_flow": null,
       "grid_area": null,
       "grid_auto_columns": null,
       "grid_auto_flow": null,
       "grid_auto_rows": null,
       "grid_column": null,
       "grid_gap": null,
       "grid_row": null,
       "grid_template_areas": null,
       "grid_template_columns": null,
       "grid_template_rows": null,
       "height": null,
       "justify_content": null,
       "justify_items": null,
       "left": null,
       "margin": null,
       "max_height": null,
       "max_width": null,
       "min_height": null,
       "min_width": null,
       "object_fit": null,
       "object_position": null,
       "order": null,
       "overflow": null,
       "overflow_x": null,
       "overflow_y": null,
       "padding": null,
       "right": null,
       "top": null,
       "visibility": null,
       "width": null
      }
     },
     "450475d547164b81b2f2c2174539ec3e": {
      "model_module": "@jupyter-widgets/controls",
      "model_module_version": "1.5.0",
      "model_name": "FloatProgressModel",
      "state": {
       "_dom_classes": [],
       "_model_module": "@jupyter-widgets/controls",
       "_model_module_version": "1.5.0",
       "_model_name": "FloatProgressModel",
       "_view_count": null,
       "_view_module": "@jupyter-widgets/controls",
       "_view_module_version": "1.5.0",
       "_view_name": "ProgressView",
       "bar_style": "success",
       "description": "",
       "description_tooltip": null,
       "layout": "IPY_MODEL_fd60e3cfb1fb40b79188c6f04d1bf578",
       "max": 526681800,
       "min": 0,
       "orientation": "horizontal",
       "style": "IPY_MODEL_8fc79847972b497b97bbf2a6bb35ada7",
       "value": 526681800
      }
     },
     "51fd9b9b7cad46f0951944ee1aeb7355": {
      "model_module": "@jupyter-widgets/controls",
      "model_module_version": "1.5.0",
      "model_name": "HBoxModel",
      "state": {
       "_dom_classes": [],
       "_model_module": "@jupyter-widgets/controls",
       "_model_module_version": "1.5.0",
       "_model_name": "HBoxModel",
       "_view_count": null,
       "_view_module": "@jupyter-widgets/controls",
       "_view_module_version": "1.5.0",
       "_view_name": "HBoxView",
       "box_style": "",
       "children": [
        "IPY_MODEL_b531c6f303134032a0f8fadd78e48cd0",
        "IPY_MODEL_cc73416598f84c1c9cb93b40de0b73fe",
        "IPY_MODEL_6c3dfc4c9bef41fe903739e4cd4052c3"
       ],
       "layout": "IPY_MODEL_6c83442928c54527a5426f9930d2ce07"
      }
     },
     "5384cebb542648b7bbf51705b678e074": {
      "model_module": "@jupyter-widgets/controls",
      "model_module_version": "1.5.0",
      "model_name": "DescriptionStyleModel",
      "state": {
       "_model_module": "@jupyter-widgets/controls",
       "_model_module_version": "1.5.0",
       "_model_name": "DescriptionStyleModel",
       "_view_count": null,
       "_view_module": "@jupyter-widgets/base",
       "_view_module_version": "1.2.0",
       "_view_name": "StyleView",
       "description_width": ""
      }
     },
     "554bdf89f3c34b5da41e8301063be4ea": {
      "model_module": "@jupyter-widgets/controls",
      "model_module_version": "1.5.0",
      "model_name": "FloatProgressModel",
      "state": {
       "_dom_classes": [],
       "_model_module": "@jupyter-widgets/controls",
       "_model_module_version": "1.5.0",
       "_model_name": "FloatProgressModel",
       "_view_count": null,
       "_view_module": "@jupyter-widgets/controls",
       "_view_module_version": "1.5.0",
       "_view_name": "ProgressView",
       "bar_style": "success",
       "description": "",
       "description_tooltip": null,
       "layout": "IPY_MODEL_c6b0f1d606ae4093acc3dabbc2b86e86",
       "max": 570,
       "min": 0,
       "orientation": "horizontal",
       "style": "IPY_MODEL_795d03e1b77a423f88a60b86a18194e7",
       "value": 570
      }
     },
     "568825c547d14b3f8971105c3417c0a3": {
      "model_module": "@jupyter-widgets/controls",
      "model_module_version": "1.5.0",
      "model_name": "HTMLModel",
      "state": {
       "_dom_classes": [],
       "_model_module": "@jupyter-widgets/controls",
       "_model_module_version": "1.5.0",
       "_model_name": "HTMLModel",
       "_view_count": null,
       "_view_module": "@jupyter-widgets/controls",
       "_view_module_version": "1.5.0",
       "_view_name": "HTMLView",
       "description": "",
       "description_tooltip": null,
       "layout": "IPY_MODEL_d2231ad9b2814667b5e25ebe94c470f3",
       "placeholder": "​",
       "style": "IPY_MODEL_b55406c352e94c71b3d2bd53e148368d",
       "value": "Downloading: 100%"
      }
     },
     "5bfa34c553a54b38aa7a588a02a2421d": {
      "model_module": "@jupyter-widgets/controls",
      "model_module_version": "1.5.0",
      "model_name": "HTMLModel",
      "state": {
       "_dom_classes": [],
       "_model_module": "@jupyter-widgets/controls",
       "_model_module_version": "1.5.0",
       "_model_name": "HTMLModel",
       "_view_count": null,
       "_view_module": "@jupyter-widgets/controls",
       "_view_module_version": "1.5.0",
       "_view_name": "HTMLView",
       "description": "",
       "description_tooltip": null,
       "layout": "IPY_MODEL_3150505bc73144e7ab67391062c27492",
       "placeholder": "​",
       "style": "IPY_MODEL_5384cebb542648b7bbf51705b678e074",
       "value": " 570/570 [00:00&lt;00:00, 21.0kB/s]"
      }
     },
     "5c484e00c0c240bbac745cfb59c59ab0": {
      "model_module": "@jupyter-widgets/controls",
      "model_module_version": "1.5.0",
      "model_name": "DescriptionStyleModel",
      "state": {
       "_model_module": "@jupyter-widgets/controls",
       "_model_module_version": "1.5.0",
       "_model_name": "DescriptionStyleModel",
       "_view_count": null,
       "_view_module": "@jupyter-widgets/base",
       "_view_module_version": "1.2.0",
       "_view_name": "StyleView",
       "description_width": ""
      }
     },
     "63f9bf6a2bf94303b80ef2091177787d": {
      "model_module": "@jupyter-widgets/base",
      "model_module_version": "1.2.0",
      "model_name": "LayoutModel",
      "state": {
       "_model_module": "@jupyter-widgets/base",
       "_model_module_version": "1.2.0",
       "_model_name": "LayoutModel",
       "_view_count": null,
       "_view_module": "@jupyter-widgets/base",
       "_view_module_version": "1.2.0",
       "_view_name": "LayoutView",
       "align_content": null,
       "align_items": null,
       "align_self": null,
       "border": null,
       "bottom": null,
       "display": null,
       "flex": null,
       "flex_flow": null,
       "grid_area": null,
       "grid_auto_columns": null,
       "grid_auto_flow": null,
       "grid_auto_rows": null,
       "grid_column": null,
       "grid_gap": null,
       "grid_row": null,
       "grid_template_areas": null,
       "grid_template_columns": null,
       "grid_template_rows": null,
       "height": null,
       "justify_content": null,
       "justify_items": null,
       "left": null,
       "margin": null,
       "max_height": null,
       "max_width": null,
       "min_height": null,
       "min_width": null,
       "object_fit": null,
       "object_position": null,
       "order": null,
       "overflow": null,
       "overflow_x": null,
       "overflow_y": null,
       "padding": null,
       "right": null,
       "top": null,
       "visibility": null,
       "width": null
      }
     },
     "644f7a4d22f4439a9615f3f8f630fa3a": {
      "model_module": "@jupyter-widgets/controls",
      "model_module_version": "1.5.0",
      "model_name": "DescriptionStyleModel",
      "state": {
       "_model_module": "@jupyter-widgets/controls",
       "_model_module_version": "1.5.0",
       "_model_name": "DescriptionStyleModel",
       "_view_count": null,
       "_view_module": "@jupyter-widgets/base",
       "_view_module_version": "1.2.0",
       "_view_name": "StyleView",
       "description_width": ""
      }
     },
     "6a052d40acee40e09228ba6c44f2cbc1": {
      "model_module": "@jupyter-widgets/base",
      "model_module_version": "1.2.0",
      "model_name": "LayoutModel",
      "state": {
       "_model_module": "@jupyter-widgets/base",
       "_model_module_version": "1.2.0",
       "_model_name": "LayoutModel",
       "_view_count": null,
       "_view_module": "@jupyter-widgets/base",
       "_view_module_version": "1.2.0",
       "_view_name": "LayoutView",
       "align_content": null,
       "align_items": null,
       "align_self": null,
       "border": null,
       "bottom": null,
       "display": null,
       "flex": null,
       "flex_flow": null,
       "grid_area": null,
       "grid_auto_columns": null,
       "grid_auto_flow": null,
       "grid_auto_rows": null,
       "grid_column": null,
       "grid_gap": null,
       "grid_row": null,
       "grid_template_areas": null,
       "grid_template_columns": null,
       "grid_template_rows": null,
       "height": null,
       "justify_content": null,
       "justify_items": null,
       "left": null,
       "margin": null,
       "max_height": null,
       "max_width": null,
       "min_height": null,
       "min_width": null,
       "object_fit": null,
       "object_position": null,
       "order": null,
       "overflow": null,
       "overflow_x": null,
       "overflow_y": null,
       "padding": null,
       "right": null,
       "top": null,
       "visibility": null,
       "width": null
      }
     },
     "6c3dfc4c9bef41fe903739e4cd4052c3": {
      "model_module": "@jupyter-widgets/controls",
      "model_module_version": "1.5.0",
      "model_name": "HTMLModel",
      "state": {
       "_dom_classes": [],
       "_model_module": "@jupyter-widgets/controls",
       "_model_module_version": "1.5.0",
       "_model_name": "HTMLModel",
       "_view_count": null,
       "_view_module": "@jupyter-widgets/controls",
       "_view_module_version": "1.5.0",
       "_view_name": "HTMLView",
       "description": "",
       "description_tooltip": null,
       "layout": "IPY_MODEL_c5210c4164704ec99ccd2b4892e38022",
       "placeholder": "​",
       "style": "IPY_MODEL_3b42ee3029d94e3aacb05a7c022dccd0",
       "value": " 29.0/29.0 [00:00&lt;00:00, 1.05kB/s]"
      }
     },
     "6c83442928c54527a5426f9930d2ce07": {
      "model_module": "@jupyter-widgets/base",
      "model_module_version": "1.2.0",
      "model_name": "LayoutModel",
      "state": {
       "_model_module": "@jupyter-widgets/base",
       "_model_module_version": "1.2.0",
       "_model_name": "LayoutModel",
       "_view_count": null,
       "_view_module": "@jupyter-widgets/base",
       "_view_module_version": "1.2.0",
       "_view_name": "LayoutView",
       "align_content": null,
       "align_items": null,
       "align_self": null,
       "border": null,
       "bottom": null,
       "display": null,
       "flex": null,
       "flex_flow": null,
       "grid_area": null,
       "grid_auto_columns": null,
       "grid_auto_flow": null,
       "grid_auto_rows": null,
       "grid_column": null,
       "grid_gap": null,
       "grid_row": null,
       "grid_template_areas": null,
       "grid_template_columns": null,
       "grid_template_rows": null,
       "height": null,
       "justify_content": null,
       "justify_items": null,
       "left": null,
       "margin": null,
       "max_height": null,
       "max_width": null,
       "min_height": null,
       "min_width": null,
       "object_fit": null,
       "object_position": null,
       "order": null,
       "overflow": null,
       "overflow_x": null,
       "overflow_y": null,
       "padding": null,
       "right": null,
       "top": null,
       "visibility": null,
       "width": null
      }
     },
     "6f1624dda32540769f03dc0519a10a11": {
      "model_module": "@jupyter-widgets/controls",
      "model_module_version": "1.5.0",
      "model_name": "HTMLModel",
      "state": {
       "_dom_classes": [],
       "_model_module": "@jupyter-widgets/controls",
       "_model_module_version": "1.5.0",
       "_model_name": "HTMLModel",
       "_view_count": null,
       "_view_module": "@jupyter-widgets/controls",
       "_view_module_version": "1.5.0",
       "_view_name": "HTMLView",
       "description": "",
       "description_tooltip": null,
       "layout": "IPY_MODEL_3c915b4f44a94732b96bbb0ee9d7d891",
       "placeholder": "​",
       "style": "IPY_MODEL_fbe2c4bb1bac49c085c76e02b428df03",
       "value": "Downloading: 100%"
      }
     },
     "763e8b3d993f4f3b95923bd5f09c3e79": {
      "model_module": "@jupyter-widgets/controls",
      "model_module_version": "1.5.0",
      "model_name": "HTMLModel",
      "state": {
       "_dom_classes": [],
       "_model_module": "@jupyter-widgets/controls",
       "_model_module_version": "1.5.0",
       "_model_name": "HTMLModel",
       "_view_count": null,
       "_view_module": "@jupyter-widgets/controls",
       "_view_module_version": "1.5.0",
       "_view_name": "HTMLView",
       "description": "",
       "description_tooltip": null,
       "layout": "IPY_MODEL_fca6e0f3c4904831bd2ce5c0e31d8696",
       "placeholder": "​",
       "style": "IPY_MODEL_05221bfba8954e1882ecb763263274b4",
       "value": " 208k/208k [00:00&lt;00:00, 1.56MB/s]"
      }
     },
     "795d03e1b77a423f88a60b86a18194e7": {
      "model_module": "@jupyter-widgets/controls",
      "model_module_version": "1.5.0",
      "model_name": "ProgressStyleModel",
      "state": {
       "_model_module": "@jupyter-widgets/controls",
       "_model_module_version": "1.5.0",
       "_model_name": "ProgressStyleModel",
       "_view_count": null,
       "_view_module": "@jupyter-widgets/base",
       "_view_module_version": "1.2.0",
       "_view_name": "StyleView",
       "bar_color": null,
       "description_width": ""
      }
     },
     "7cfc46fe8fe24ab296bda7ae8ee8e052": {
      "model_module": "@jupyter-widgets/controls",
      "model_module_version": "1.5.0",
      "model_name": "ProgressStyleModel",
      "state": {
       "_model_module": "@jupyter-widgets/controls",
       "_model_module_version": "1.5.0",
       "_model_name": "ProgressStyleModel",
       "_view_count": null,
       "_view_module": "@jupyter-widgets/base",
       "_view_module_version": "1.2.0",
       "_view_name": "StyleView",
       "bar_color": null,
       "description_width": ""
      }
     },
     "84d605e0699147c391664c2dac4088d8": {
      "model_module": "@jupyter-widgets/base",
      "model_module_version": "1.2.0",
      "model_name": "LayoutModel",
      "state": {
       "_model_module": "@jupyter-widgets/base",
       "_model_module_version": "1.2.0",
       "_model_name": "LayoutModel",
       "_view_count": null,
       "_view_module": "@jupyter-widgets/base",
       "_view_module_version": "1.2.0",
       "_view_name": "LayoutView",
       "align_content": null,
       "align_items": null,
       "align_self": null,
       "border": null,
       "bottom": null,
       "display": null,
       "flex": null,
       "flex_flow": null,
       "grid_area": null,
       "grid_auto_columns": null,
       "grid_auto_flow": null,
       "grid_auto_rows": null,
       "grid_column": null,
       "grid_gap": null,
       "grid_row": null,
       "grid_template_areas": null,
       "grid_template_columns": null,
       "grid_template_rows": null,
       "height": null,
       "justify_content": null,
       "justify_items": null,
       "left": null,
       "margin": null,
       "max_height": null,
       "max_width": null,
       "min_height": null,
       "min_width": null,
       "object_fit": null,
       "object_position": null,
       "order": null,
       "overflow": null,
       "overflow_x": null,
       "overflow_y": null,
       "padding": null,
       "right": null,
       "top": null,
       "visibility": null,
       "width": null
      }
     },
     "86fdf8e27d7c46a293476d84c7fc3cc3": {
      "model_module": "@jupyter-widgets/controls",
      "model_module_version": "1.5.0",
      "model_name": "HTMLModel",
      "state": {
       "_dom_classes": [],
       "_model_module": "@jupyter-widgets/controls",
       "_model_module_version": "1.5.0",
       "_model_name": "HTMLModel",
       "_view_count": null,
       "_view_module": "@jupyter-widgets/controls",
       "_view_module_version": "1.5.0",
       "_view_name": "HTMLView",
       "description": "",
       "description_tooltip": null,
       "layout": "IPY_MODEL_0ad611ed963442639b3867df4e0e0d80",
       "placeholder": "​",
       "style": "IPY_MODEL_3efb144a8e444e62b34836f22ed47276",
       "value": "Downloading: 100%"
      }
     },
     "8fc79847972b497b97bbf2a6bb35ada7": {
      "model_module": "@jupyter-widgets/controls",
      "model_module_version": "1.5.0",
      "model_name": "ProgressStyleModel",
      "state": {
       "_model_module": "@jupyter-widgets/controls",
       "_model_module_version": "1.5.0",
       "_model_name": "ProgressStyleModel",
       "_view_count": null,
       "_view_module": "@jupyter-widgets/base",
       "_view_module_version": "1.2.0",
       "_view_name": "StyleView",
       "bar_color": null,
       "description_width": ""
      }
     },
     "b3f1e3d12cbc4f6ebb28d8deb0321e95": {
      "model_module": "@jupyter-widgets/controls",
      "model_module_version": "1.5.0",
      "model_name": "HBoxModel",
      "state": {
       "_dom_classes": [],
       "_model_module": "@jupyter-widgets/controls",
       "_model_module_version": "1.5.0",
       "_model_name": "HBoxModel",
       "_view_count": null,
       "_view_module": "@jupyter-widgets/controls",
       "_view_module_version": "1.5.0",
       "_view_name": "HBoxView",
       "box_style": "",
       "children": [
        "IPY_MODEL_6f1624dda32540769f03dc0519a10a11",
        "IPY_MODEL_554bdf89f3c34b5da41e8301063be4ea",
        "IPY_MODEL_5bfa34c553a54b38aa7a588a02a2421d"
       ],
       "layout": "IPY_MODEL_43f7367319ec44b3a8a0e1876c1d2648"
      }
     },
     "b531c6f303134032a0f8fadd78e48cd0": {
      "model_module": "@jupyter-widgets/controls",
      "model_module_version": "1.5.0",
      "model_name": "HTMLModel",
      "state": {
       "_dom_classes": [],
       "_model_module": "@jupyter-widgets/controls",
       "_model_module_version": "1.5.0",
       "_model_name": "HTMLModel",
       "_view_count": null,
       "_view_module": "@jupyter-widgets/controls",
       "_view_module_version": "1.5.0",
       "_view_name": "HTMLView",
       "description": "",
       "description_tooltip": null,
       "layout": "IPY_MODEL_84d605e0699147c391664c2dac4088d8",
       "placeholder": "​",
       "style": "IPY_MODEL_5c484e00c0c240bbac745cfb59c59ab0",
       "value": "Downloading: 100%"
      }
     },
     "b55406c352e94c71b3d2bd53e148368d": {
      "model_module": "@jupyter-widgets/controls",
      "model_module_version": "1.5.0",
      "model_name": "DescriptionStyleModel",
      "state": {
       "_model_module": "@jupyter-widgets/controls",
       "_model_module_version": "1.5.0",
       "_model_name": "DescriptionStyleModel",
       "_view_count": null,
       "_view_module": "@jupyter-widgets/base",
       "_view_module_version": "1.2.0",
       "_view_name": "StyleView",
       "description_width": ""
      }
     },
     "bbaef29341984ed29d50a4ff4d51c50d": {
      "model_module": "@jupyter-widgets/base",
      "model_module_version": "1.2.0",
      "model_name": "LayoutModel",
      "state": {
       "_model_module": "@jupyter-widgets/base",
       "_model_module_version": "1.2.0",
       "_model_name": "LayoutModel",
       "_view_count": null,
       "_view_module": "@jupyter-widgets/base",
       "_view_module_version": "1.2.0",
       "_view_name": "LayoutView",
       "align_content": null,
       "align_items": null,
       "align_self": null,
       "border": null,
       "bottom": null,
       "display": null,
       "flex": null,
       "flex_flow": null,
       "grid_area": null,
       "grid_auto_columns": null,
       "grid_auto_flow": null,
       "grid_auto_rows": null,
       "grid_column": null,
       "grid_gap": null,
       "grid_row": null,
       "grid_template_areas": null,
       "grid_template_columns": null,
       "grid_template_rows": null,
       "height": null,
       "justify_content": null,
       "justify_items": null,
       "left": null,
       "margin": null,
       "max_height": null,
       "max_width": null,
       "min_height": null,
       "min_width": null,
       "object_fit": null,
       "object_position": null,
       "order": null,
       "overflow": null,
       "overflow_x": null,
       "overflow_y": null,
       "padding": null,
       "right": null,
       "top": null,
       "visibility": null,
       "width": null
      }
     },
     "c5210c4164704ec99ccd2b4892e38022": {
      "model_module": "@jupyter-widgets/base",
      "model_module_version": "1.2.0",
      "model_name": "LayoutModel",
      "state": {
       "_model_module": "@jupyter-widgets/base",
       "_model_module_version": "1.2.0",
       "_model_name": "LayoutModel",
       "_view_count": null,
       "_view_module": "@jupyter-widgets/base",
       "_view_module_version": "1.2.0",
       "_view_name": "LayoutView",
       "align_content": null,
       "align_items": null,
       "align_self": null,
       "border": null,
       "bottom": null,
       "display": null,
       "flex": null,
       "flex_flow": null,
       "grid_area": null,
       "grid_auto_columns": null,
       "grid_auto_flow": null,
       "grid_auto_rows": null,
       "grid_column": null,
       "grid_gap": null,
       "grid_row": null,
       "grid_template_areas": null,
       "grid_template_columns": null,
       "grid_template_rows": null,
       "height": null,
       "justify_content": null,
       "justify_items": null,
       "left": null,
       "margin": null,
       "max_height": null,
       "max_width": null,
       "min_height": null,
       "min_width": null,
       "object_fit": null,
       "object_position": null,
       "order": null,
       "overflow": null,
       "overflow_x": null,
       "overflow_y": null,
       "padding": null,
       "right": null,
       "top": null,
       "visibility": null,
       "width": null
      }
     },
     "c6b0f1d606ae4093acc3dabbc2b86e86": {
      "model_module": "@jupyter-widgets/base",
      "model_module_version": "1.2.0",
      "model_name": "LayoutModel",
      "state": {
       "_model_module": "@jupyter-widgets/base",
       "_model_module_version": "1.2.0",
       "_model_name": "LayoutModel",
       "_view_count": null,
       "_view_module": "@jupyter-widgets/base",
       "_view_module_version": "1.2.0",
       "_view_name": "LayoutView",
       "align_content": null,
       "align_items": null,
       "align_self": null,
       "border": null,
       "bottom": null,
       "display": null,
       "flex": null,
       "flex_flow": null,
       "grid_area": null,
       "grid_auto_columns": null,
       "grid_auto_flow": null,
       "grid_auto_rows": null,
       "grid_column": null,
       "grid_gap": null,
       "grid_row": null,
       "grid_template_areas": null,
       "grid_template_columns": null,
       "grid_template_rows": null,
       "height": null,
       "justify_content": null,
       "justify_items": null,
       "left": null,
       "margin": null,
       "max_height": null,
       "max_width": null,
       "min_height": null,
       "min_width": null,
       "object_fit": null,
       "object_position": null,
       "order": null,
       "overflow": null,
       "overflow_x": null,
       "overflow_y": null,
       "padding": null,
       "right": null,
       "top": null,
       "visibility": null,
       "width": null
      }
     },
     "cc73416598f84c1c9cb93b40de0b73fe": {
      "model_module": "@jupyter-widgets/controls",
      "model_module_version": "1.5.0",
      "model_name": "FloatProgressModel",
      "state": {
       "_dom_classes": [],
       "_model_module": "@jupyter-widgets/controls",
       "_model_module_version": "1.5.0",
       "_model_name": "FloatProgressModel",
       "_view_count": null,
       "_view_module": "@jupyter-widgets/controls",
       "_view_module_version": "1.5.0",
       "_view_name": "ProgressView",
       "bar_style": "success",
       "description": "",
       "description_tooltip": null,
       "layout": "IPY_MODEL_6a052d40acee40e09228ba6c44f2cbc1",
       "max": 29,
       "min": 0,
       "orientation": "horizontal",
       "style": "IPY_MODEL_24b35f7df3154109b865f7188196b92a",
       "value": 29
      }
     },
     "cd83ceec3c59477fbcffaa17fdc1d28f": {
      "model_module": "@jupyter-widgets/base",
      "model_module_version": "1.2.0",
      "model_name": "LayoutModel",
      "state": {
       "_model_module": "@jupyter-widgets/base",
       "_model_module_version": "1.2.0",
       "_model_name": "LayoutModel",
       "_view_count": null,
       "_view_module": "@jupyter-widgets/base",
       "_view_module_version": "1.2.0",
       "_view_name": "LayoutView",
       "align_content": null,
       "align_items": null,
       "align_self": null,
       "border": null,
       "bottom": null,
       "display": null,
       "flex": null,
       "flex_flow": null,
       "grid_area": null,
       "grid_auto_columns": null,
       "grid_auto_flow": null,
       "grid_auto_rows": null,
       "grid_column": null,
       "grid_gap": null,
       "grid_row": null,
       "grid_template_areas": null,
       "grid_template_columns": null,
       "grid_template_rows": null,
       "height": null,
       "justify_content": null,
       "justify_items": null,
       "left": null,
       "margin": null,
       "max_height": null,
       "max_width": null,
       "min_height": null,
       "min_width": null,
       "object_fit": null,
       "object_position": null,
       "order": null,
       "overflow": null,
       "overflow_x": null,
       "overflow_y": null,
       "padding": null,
       "right": null,
       "top": null,
       "visibility": null,
       "width": null
      }
     },
     "d1419bb03e9f4e99a1b91e8606f9a00e": {
      "model_module": "@jupyter-widgets/controls",
      "model_module_version": "1.5.0",
      "model_name": "HBoxModel",
      "state": {
       "_dom_classes": [],
       "_model_module": "@jupyter-widgets/controls",
       "_model_module_version": "1.5.0",
       "_model_name": "HBoxModel",
       "_view_count": null,
       "_view_module": "@jupyter-widgets/controls",
       "_view_module_version": "1.5.0",
       "_view_name": "HBoxView",
       "box_style": "",
       "children": [
        "IPY_MODEL_86fdf8e27d7c46a293476d84c7fc3cc3",
        "IPY_MODEL_450475d547164b81b2f2c2174539ec3e",
        "IPY_MODEL_1903e6614e274e1aa3d3cf6f0410700e"
       ],
       "layout": "IPY_MODEL_63f9bf6a2bf94303b80ef2091177787d"
      }
     },
     "d2231ad9b2814667b5e25ebe94c470f3": {
      "model_module": "@jupyter-widgets/base",
      "model_module_version": "1.2.0",
      "model_name": "LayoutModel",
      "state": {
       "_model_module": "@jupyter-widgets/base",
       "_model_module_version": "1.2.0",
       "_model_name": "LayoutModel",
       "_view_count": null,
       "_view_module": "@jupyter-widgets/base",
       "_view_module_version": "1.2.0",
       "_view_name": "LayoutView",
       "align_content": null,
       "align_items": null,
       "align_self": null,
       "border": null,
       "bottom": null,
       "display": null,
       "flex": null,
       "flex_flow": null,
       "grid_area": null,
       "grid_auto_columns": null,
       "grid_auto_flow": null,
       "grid_auto_rows": null,
       "grid_column": null,
       "grid_gap": null,
       "grid_row": null,
       "grid_template_areas": null,
       "grid_template_columns": null,
       "grid_template_rows": null,
       "height": null,
       "justify_content": null,
       "justify_items": null,
       "left": null,
       "margin": null,
       "max_height": null,
       "max_width": null,
       "min_height": null,
       "min_width": null,
       "object_fit": null,
       "object_position": null,
       "order": null,
       "overflow": null,
       "overflow_x": null,
       "overflow_y": null,
       "padding": null,
       "right": null,
       "top": null,
       "visibility": null,
       "width": null
      }
     },
     "dfc8427166a84c7586df5f090c54c72d": {
      "model_module": "@jupyter-widgets/base",
      "model_module_version": "1.2.0",
      "model_name": "LayoutModel",
      "state": {
       "_model_module": "@jupyter-widgets/base",
       "_model_module_version": "1.2.0",
       "_model_name": "LayoutModel",
       "_view_count": null,
       "_view_module": "@jupyter-widgets/base",
       "_view_module_version": "1.2.0",
       "_view_name": "LayoutView",
       "align_content": null,
       "align_items": null,
       "align_self": null,
       "border": null,
       "bottom": null,
       "display": null,
       "flex": null,
       "flex_flow": null,
       "grid_area": null,
       "grid_auto_columns": null,
       "grid_auto_flow": null,
       "grid_auto_rows": null,
       "grid_column": null,
       "grid_gap": null,
       "grid_row": null,
       "grid_template_areas": null,
       "grid_template_columns": null,
       "grid_template_rows": null,
       "height": null,
       "justify_content": null,
       "justify_items": null,
       "left": null,
       "margin": null,
       "max_height": null,
       "max_width": null,
       "min_height": null,
       "min_width": null,
       "object_fit": null,
       "object_position": null,
       "order": null,
       "overflow": null,
       "overflow_x": null,
       "overflow_y": null,
       "padding": null,
       "right": null,
       "top": null,
       "visibility": null,
       "width": null
      }
     },
     "f173855d5a324bb581a9b33a0782371f": {
      "model_module": "@jupyter-widgets/controls",
      "model_module_version": "1.5.0",
      "model_name": "FloatProgressModel",
      "state": {
       "_dom_classes": [],
       "_model_module": "@jupyter-widgets/controls",
       "_model_module_version": "1.5.0",
       "_model_name": "FloatProgressModel",
       "_view_count": null,
       "_view_module": "@jupyter-widgets/controls",
       "_view_module_version": "1.5.0",
       "_view_name": "ProgressView",
       "bar_style": "success",
       "description": "",
       "description_tooltip": null,
       "layout": "IPY_MODEL_bbaef29341984ed29d50a4ff4d51c50d",
       "max": 213450,
       "min": 0,
       "orientation": "horizontal",
       "style": "IPY_MODEL_7cfc46fe8fe24ab296bda7ae8ee8e052",
       "value": 213450
      }
     },
     "fbe2c4bb1bac49c085c76e02b428df03": {
      "model_module": "@jupyter-widgets/controls",
      "model_module_version": "1.5.0",
      "model_name": "DescriptionStyleModel",
      "state": {
       "_model_module": "@jupyter-widgets/controls",
       "_model_module_version": "1.5.0",
       "_model_name": "DescriptionStyleModel",
       "_view_count": null,
       "_view_module": "@jupyter-widgets/base",
       "_view_module_version": "1.2.0",
       "_view_name": "StyleView",
       "description_width": ""
      }
     },
     "fca6e0f3c4904831bd2ce5c0e31d8696": {
      "model_module": "@jupyter-widgets/base",
      "model_module_version": "1.2.0",
      "model_name": "LayoutModel",
      "state": {
       "_model_module": "@jupyter-widgets/base",
       "_model_module_version": "1.2.0",
       "_model_name": "LayoutModel",
       "_view_count": null,
       "_view_module": "@jupyter-widgets/base",
       "_view_module_version": "1.2.0",
       "_view_name": "LayoutView",
       "align_content": null,
       "align_items": null,
       "align_self": null,
       "border": null,
       "bottom": null,
       "display": null,
       "flex": null,
       "flex_flow": null,
       "grid_area": null,
       "grid_auto_columns": null,
       "grid_auto_flow": null,
       "grid_auto_rows": null,
       "grid_column": null,
       "grid_gap": null,
       "grid_row": null,
       "grid_template_areas": null,
       "grid_template_columns": null,
       "grid_template_rows": null,
       "height": null,
       "justify_content": null,
       "justify_items": null,
       "left": null,
       "margin": null,
       "max_height": null,
       "max_width": null,
       "min_height": null,
       "min_width": null,
       "object_fit": null,
       "object_position": null,
       "order": null,
       "overflow": null,
       "overflow_x": null,
       "overflow_y": null,
       "padding": null,
       "right": null,
       "top": null,
       "visibility": null,
       "width": null
      }
     },
     "fd60e3cfb1fb40b79188c6f04d1bf578": {
      "model_module": "@jupyter-widgets/base",
      "model_module_version": "1.2.0",
      "model_name": "LayoutModel",
      "state": {
       "_model_module": "@jupyter-widgets/base",
       "_model_module_version": "1.2.0",
       "_model_name": "LayoutModel",
       "_view_count": null,
       "_view_module": "@jupyter-widgets/base",
       "_view_module_version": "1.2.0",
       "_view_name": "LayoutView",
       "align_content": null,
       "align_items": null,
       "align_self": null,
       "border": null,
       "bottom": null,
       "display": null,
       "flex": null,
       "flex_flow": null,
       "grid_area": null,
       "grid_auto_columns": null,
       "grid_auto_flow": null,
       "grid_auto_rows": null,
       "grid_column": null,
       "grid_gap": null,
       "grid_row": null,
       "grid_template_areas": null,
       "grid_template_columns": null,
       "grid_template_rows": null,
       "height": null,
       "justify_content": null,
       "justify_items": null,
       "left": null,
       "margin": null,
       "max_height": null,
       "max_width": null,
       "min_height": null,
       "min_width": null,
       "object_fit": null,
       "object_position": null,
       "order": null,
       "overflow": null,
       "overflow_x": null,
       "overflow_y": null,
       "padding": null,
       "right": null,
       "top": null,
       "visibility": null,
       "width": null
      }
     }
    },
    "version_major": 2,
    "version_minor": 0
   }
  }
 },
 "nbformat": 4,
 "nbformat_minor": 5
}
